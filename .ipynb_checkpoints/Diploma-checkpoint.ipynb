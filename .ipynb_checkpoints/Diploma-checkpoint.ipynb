{
 "cells": [
  {
   "cell_type": "markdown",
   "id": "bb6a3638",
   "metadata": {},
   "source": [
    "# Denys Golotiuk / курсовой\n",
    "\n",
    "## 1. Загрузка библиотек"
   ]
  },
  {
   "cell_type": "code",
   "execution_count": 2,
   "id": "4618c5db",
   "metadata": {},
   "outputs": [],
   "source": [
    "import numpy as np\n",
    "import pandas as pd\n",
    "import pickle\n",
    "import os\n",
    "\n",
    "from scipy.spatial.distance import cdist\n",
    "from mpl_toolkits.mplot3d.axes3d import Axes3D\n",
    "\n",
    "from sklearn.preprocessing import StandardScaler, RobustScaler\n",
    "from sklearn.cluster import KMeans, DBSCAN, AgglomerativeClustering\n",
    "from sklearn.neighbors import KNeighborsClassifier\n",
    "\n",
    "from sklearn.decomposition import PCA\n",
    "from sklearn.manifold import TSNE\n",
    "\n",
    "from sklearn.model_selection import train_test_split, cross_val_score, KFold, GridSearchCV\n",
    "from sklearn.metrics import r2_score as r2, mean_absolute_error as mae, mean_squared_error as mse\n",
    "\n",
    "from sklearn.ensemble import GradientBoostingRegressor\n",
    "from sklearn.ensemble import RandomForestRegressor\n",
    "from sklearn.linear_model import LinearRegression\n",
    "from sklearn.linear_model import RidgeClassifier\n",
    "\n",
    "from sklearn.preprocessing import PolynomialFeatures\n",
    "from sklearn.pipeline import Pipeline\n",
    "\n",
    "import warnings\n",
    "warnings.filterwarnings('ignore')\n",
    "\n",
    "import matplotlib\n",
    "import matplotlib.pyplot as plt\n",
    "import seaborn as sns\n",
    "%matplotlib inline"
   ]
  },
  {
   "cell_type": "markdown",
   "id": "8fa68abf",
   "metadata": {},
   "source": [
    "## 2. Подготовка данных"
   ]
  },
  {
   "cell_type": "code",
   "execution_count": 3,
   "id": "3771b52a",
   "metadata": {},
   "outputs": [],
   "source": [
    "data_dir = './'\n",
    "train_df = pd.read_csv(data_dir + 'train.csv')\n",
    "predict_df = pd.read_csv(data_dir + 'test.csv')\n",
    "\n",
    "# get test sample out of train dataset\n",
    "train_df = train_df.sample(frac=1,random_state=21)\n",
    "test_df = train_df[0:2000] # 20%\n",
    "train_df = train_df[2000:] # 80%"
   ]
  },
  {
   "cell_type": "code",
   "execution_count": 4,
   "id": "5bb833e4",
   "metadata": {},
   "outputs": [
    {
     "data": {
      "text/html": [
       "<div>\n",
       "<style scoped>\n",
       "    .dataframe tbody tr th:only-of-type {\n",
       "        vertical-align: middle;\n",
       "    }\n",
       "\n",
       "    .dataframe tbody tr th {\n",
       "        vertical-align: top;\n",
       "    }\n",
       "\n",
       "    .dataframe thead th {\n",
       "        text-align: right;\n",
       "    }\n",
       "</style>\n",
       "<table border=\"1\" class=\"dataframe\">\n",
       "  <thead>\n",
       "    <tr style=\"text-align: right;\">\n",
       "      <th></th>\n",
       "      <th>Id</th>\n",
       "      <th>DistrictId</th>\n",
       "      <th>Rooms</th>\n",
       "      <th>Square</th>\n",
       "      <th>LifeSquare</th>\n",
       "      <th>KitchenSquare</th>\n",
       "      <th>Floor</th>\n",
       "      <th>HouseFloor</th>\n",
       "      <th>HouseYear</th>\n",
       "      <th>Ecology_1</th>\n",
       "      <th>Social_1</th>\n",
       "      <th>Social_2</th>\n",
       "      <th>Social_3</th>\n",
       "      <th>Healthcare_1</th>\n",
       "      <th>Helthcare_2</th>\n",
       "      <th>Shops_1</th>\n",
       "      <th>Price</th>\n",
       "    </tr>\n",
       "  </thead>\n",
       "  <tbody>\n",
       "    <tr>\n",
       "      <th>count</th>\n",
       "      <td>8000.000000</td>\n",
       "      <td>8000.000000</td>\n",
       "      <td>8000.000000</td>\n",
       "      <td>8000.000000</td>\n",
       "      <td>6309.000000</td>\n",
       "      <td>8000.000000</td>\n",
       "      <td>8000.000000</td>\n",
       "      <td>8000.000000</td>\n",
       "      <td>8.000000e+03</td>\n",
       "      <td>8000.000000</td>\n",
       "      <td>8000.000000</td>\n",
       "      <td>8000.00000</td>\n",
       "      <td>8000.000000</td>\n",
       "      <td>4139.000000</td>\n",
       "      <td>8000.000000</td>\n",
       "      <td>8000.000000</td>\n",
       "      <td>8000.000000</td>\n",
       "    </tr>\n",
       "    <tr>\n",
       "      <th>mean</th>\n",
       "      <td>8389.561500</td>\n",
       "      <td>50.084250</td>\n",
       "      <td>1.890000</td>\n",
       "      <td>56.298586</td>\n",
       "      <td>36.219362</td>\n",
       "      <td>6.130375</td>\n",
       "      <td>8.539875</td>\n",
       "      <td>12.608750</td>\n",
       "      <td>4.491539e+03</td>\n",
       "      <td>0.120186</td>\n",
       "      <td>24.736000</td>\n",
       "      <td>5366.18450</td>\n",
       "      <td>7.942500</td>\n",
       "      <td>1148.117178</td>\n",
       "      <td>1.313000</td>\n",
       "      <td>4.227250</td>\n",
       "      <td>213719.381484</td>\n",
       "    </tr>\n",
       "    <tr>\n",
       "      <th>std</th>\n",
       "      <td>4865.257611</td>\n",
       "      <td>43.340592</td>\n",
       "      <td>0.842163</td>\n",
       "      <td>21.407827</td>\n",
       "      <td>20.866071</td>\n",
       "      <td>22.599585</td>\n",
       "      <td>5.274006</td>\n",
       "      <td>6.772345</td>\n",
       "      <td>2.241661e+05</td>\n",
       "      <td>0.119573</td>\n",
       "      <td>17.582938</td>\n",
       "      <td>4018.58071</td>\n",
       "      <td>23.652492</td>\n",
       "      <td>1025.967365</td>\n",
       "      <td>1.488139</td>\n",
       "      <td>4.793613</td>\n",
       "      <td>92544.370390</td>\n",
       "    </tr>\n",
       "    <tr>\n",
       "      <th>min</th>\n",
       "      <td>0.000000</td>\n",
       "      <td>0.000000</td>\n",
       "      <td>0.000000</td>\n",
       "      <td>1.988943</td>\n",
       "      <td>0.370619</td>\n",
       "      <td>0.000000</td>\n",
       "      <td>1.000000</td>\n",
       "      <td>0.000000</td>\n",
       "      <td>1.910000e+03</td>\n",
       "      <td>0.000000</td>\n",
       "      <td>0.000000</td>\n",
       "      <td>168.00000</td>\n",
       "      <td>0.000000</td>\n",
       "      <td>30.000000</td>\n",
       "      <td>0.000000</td>\n",
       "      <td>0.000000</td>\n",
       "      <td>59877.592523</td>\n",
       "    </tr>\n",
       "    <tr>\n",
       "      <th>25%</th>\n",
       "      <td>4188.750000</td>\n",
       "      <td>19.000000</td>\n",
       "      <td>1.000000</td>\n",
       "      <td>41.828619</td>\n",
       "      <td>22.746541</td>\n",
       "      <td>1.000000</td>\n",
       "      <td>4.000000</td>\n",
       "      <td>9.000000</td>\n",
       "      <td>1.974000e+03</td>\n",
       "      <td>0.017647</td>\n",
       "      <td>6.000000</td>\n",
       "      <td>1564.00000</td>\n",
       "      <td>0.000000</td>\n",
       "      <td>350.000000</td>\n",
       "      <td>0.000000</td>\n",
       "      <td>1.000000</td>\n",
       "      <td>153820.115158</td>\n",
       "    </tr>\n",
       "    <tr>\n",
       "      <th>50%</th>\n",
       "      <td>8389.500000</td>\n",
       "      <td>35.000000</td>\n",
       "      <td>2.000000</td>\n",
       "      <td>52.535436</td>\n",
       "      <td>32.747786</td>\n",
       "      <td>6.000000</td>\n",
       "      <td>7.000000</td>\n",
       "      <td>13.000000</td>\n",
       "      <td>1.977000e+03</td>\n",
       "      <td>0.075779</td>\n",
       "      <td>25.000000</td>\n",
       "      <td>5285.00000</td>\n",
       "      <td>2.000000</td>\n",
       "      <td>900.000000</td>\n",
       "      <td>1.000000</td>\n",
       "      <td>3.000000</td>\n",
       "      <td>192047.373967</td>\n",
       "    </tr>\n",
       "    <tr>\n",
       "      <th>75%</th>\n",
       "      <td>12625.250000</td>\n",
       "      <td>75.000000</td>\n",
       "      <td>2.000000</td>\n",
       "      <td>65.845314</td>\n",
       "      <td>45.035978</td>\n",
       "      <td>9.000000</td>\n",
       "      <td>12.000000</td>\n",
       "      <td>17.000000</td>\n",
       "      <td>2.001000e+03</td>\n",
       "      <td>0.195781</td>\n",
       "      <td>36.000000</td>\n",
       "      <td>7287.00000</td>\n",
       "      <td>5.000000</td>\n",
       "      <td>1548.000000</td>\n",
       "      <td>2.000000</td>\n",
       "      <td>6.000000</td>\n",
       "      <td>248335.571608</td>\n",
       "    </tr>\n",
       "    <tr>\n",
       "      <th>max</th>\n",
       "      <td>16797.000000</td>\n",
       "      <td>209.000000</td>\n",
       "      <td>19.000000</td>\n",
       "      <td>641.065193</td>\n",
       "      <td>638.163193</td>\n",
       "      <td>1970.000000</td>\n",
       "      <td>42.000000</td>\n",
       "      <td>117.000000</td>\n",
       "      <td>2.005201e+07</td>\n",
       "      <td>0.521867</td>\n",
       "      <td>74.000000</td>\n",
       "      <td>19083.00000</td>\n",
       "      <td>141.000000</td>\n",
       "      <td>4849.000000</td>\n",
       "      <td>6.000000</td>\n",
       "      <td>23.000000</td>\n",
       "      <td>627525.072788</td>\n",
       "    </tr>\n",
       "  </tbody>\n",
       "</table>\n",
       "</div>"
      ],
      "text/plain": [
       "                 Id   DistrictId        Rooms       Square   LifeSquare  \\\n",
       "count   8000.000000  8000.000000  8000.000000  8000.000000  6309.000000   \n",
       "mean    8389.561500    50.084250     1.890000    56.298586    36.219362   \n",
       "std     4865.257611    43.340592     0.842163    21.407827    20.866071   \n",
       "min        0.000000     0.000000     0.000000     1.988943     0.370619   \n",
       "25%     4188.750000    19.000000     1.000000    41.828619    22.746541   \n",
       "50%     8389.500000    35.000000     2.000000    52.535436    32.747786   \n",
       "75%    12625.250000    75.000000     2.000000    65.845314    45.035978   \n",
       "max    16797.000000   209.000000    19.000000   641.065193   638.163193   \n",
       "\n",
       "       KitchenSquare        Floor   HouseFloor     HouseYear    Ecology_1  \\\n",
       "count    8000.000000  8000.000000  8000.000000  8.000000e+03  8000.000000   \n",
       "mean        6.130375     8.539875    12.608750  4.491539e+03     0.120186   \n",
       "std        22.599585     5.274006     6.772345  2.241661e+05     0.119573   \n",
       "min         0.000000     1.000000     0.000000  1.910000e+03     0.000000   \n",
       "25%         1.000000     4.000000     9.000000  1.974000e+03     0.017647   \n",
       "50%         6.000000     7.000000    13.000000  1.977000e+03     0.075779   \n",
       "75%         9.000000    12.000000    17.000000  2.001000e+03     0.195781   \n",
       "max      1970.000000    42.000000   117.000000  2.005201e+07     0.521867   \n",
       "\n",
       "          Social_1     Social_2     Social_3  Healthcare_1  Helthcare_2  \\\n",
       "count  8000.000000   8000.00000  8000.000000   4139.000000  8000.000000   \n",
       "mean     24.736000   5366.18450     7.942500   1148.117178     1.313000   \n",
       "std      17.582938   4018.58071    23.652492   1025.967365     1.488139   \n",
       "min       0.000000    168.00000     0.000000     30.000000     0.000000   \n",
       "25%       6.000000   1564.00000     0.000000    350.000000     0.000000   \n",
       "50%      25.000000   5285.00000     2.000000    900.000000     1.000000   \n",
       "75%      36.000000   7287.00000     5.000000   1548.000000     2.000000   \n",
       "max      74.000000  19083.00000   141.000000   4849.000000     6.000000   \n",
       "\n",
       "           Shops_1          Price  \n",
       "count  8000.000000    8000.000000  \n",
       "mean      4.227250  213719.381484  \n",
       "std       4.793613   92544.370390  \n",
       "min       0.000000   59877.592523  \n",
       "25%       1.000000  153820.115158  \n",
       "50%       3.000000  192047.373967  \n",
       "75%       6.000000  248335.571608  \n",
       "max      23.000000  627525.072788  "
      ]
     },
     "execution_count": 4,
     "metadata": {},
     "output_type": "execute_result"
    }
   ],
   "source": [
    "train_df.describe()"
   ]
  },
  {
   "cell_type": "markdown",
   "id": "f626ba0d",
   "metadata": {},
   "source": [
    "### 2.1. Id"
   ]
  },
  {
   "cell_type": "code",
   "execution_count": 5,
   "id": "df9a301a",
   "metadata": {
    "scrolled": false
   },
   "outputs": [
    {
     "name": "stdout",
     "output_type": "stream",
     "text": [
      "<class 'pandas.core.series.Series'>\n",
      "Int64Index: 8000 entries, 5504 to 5327\n",
      "Series name: Id\n",
      "Non-Null Count  Dtype\n",
      "--------------  -----\n",
      "8000 non-null   int64\n",
      "dtypes: int64(1)\n",
      "memory usage: 125.0 KB\n",
      "None\n"
     ]
    }
   ],
   "source": [
    "print(train_df['Id'].info())"
   ]
  },
  {
   "cell_type": "markdown",
   "id": "fc351c56",
   "metadata": {},
   "source": [
    "Видно, что это колонка целых значений - просто порядковый номер записи. Очевидно, что ее значение не является полезной характеристикой и ее необходимо убрать."
   ]
  },
  {
   "cell_type": "code",
   "execution_count": 6,
   "id": "5c56bb8b",
   "metadata": {},
   "outputs": [],
   "source": [
    "train_df.drop(['Id'], axis=1, inplace=True)\n",
    "\n",
    "#for df in [train_df, test_df, predict_df]:\n",
    "#    df.drop(['Id'], axis=1, inplace=True)"
   ]
  },
  {
   "cell_type": "markdown",
   "id": "cd7ed1c9",
   "metadata": {},
   "source": [
    "### 2.2 DistrictId"
   ]
  },
  {
   "cell_type": "code",
   "execution_count": 7,
   "id": "ee27fff6",
   "metadata": {},
   "outputs": [
    {
     "name": "stdout",
     "output_type": "stream",
     "text": [
      "<class 'pandas.core.series.Series'>\n",
      "Int64Index: 8000 entries, 5504 to 5327\n",
      "Series name: DistrictId\n",
      "Non-Null Count  Dtype\n",
      "--------------  -----\n",
      "8000 non-null   int64\n",
      "dtypes: int64(1)\n",
      "memory usage: 125.0 KB\n"
     ]
    }
   ],
   "source": [
    "train_df['DistrictId'].info()"
   ]
  },
  {
   "cell_type": "markdown",
   "id": "8dfc4135",
   "metadata": {},
   "source": [
    "Это тоже числовая колонка, которая, очевидно, является идентификатором района, в котором находится квартира.\n",
    "Это полезная характеристика. Посмотрим на распределение значений:"
   ]
  },
  {
   "cell_type": "code",
   "execution_count": 8,
   "id": "d1a6df87",
   "metadata": {},
   "outputs": [
    {
     "data": {
      "text/plain": [
       "count    8000.000000\n",
       "mean       50.084250\n",
       "std        43.340592\n",
       "min         0.000000\n",
       "25%        19.000000\n",
       "50%        35.000000\n",
       "75%        75.000000\n",
       "max       209.000000\n",
       "Name: DistrictId, dtype: float64"
      ]
     },
     "execution_count": 8,
     "metadata": {},
     "output_type": "execute_result"
    }
   ],
   "source": [
    "train_df['DistrictId'].describe()"
   ]
  },
  {
   "cell_type": "markdown",
   "id": "2b3c2498",
   "metadata": {},
   "source": [
    "Видим менее 0.5% без указания района, уберем их, чтобы не путать модель:"
   ]
  },
  {
   "cell_type": "code",
   "execution_count": 9,
   "id": "d5a2b0b7",
   "metadata": {},
   "outputs": [
    {
     "data": {
      "image/png": "[encoded data removed]",
      "text/plain": [
       "<Figure size 432x288 with 1 Axes>"
      ]
     },
     "metadata": {
      "needs_background": "light"
     },
     "output_type": "display_data"
    }
   ],
   "source": [
    "train_df['DistrictId'].plot.hist()\n",
    "plt.show();"
   ]
  },
  {
   "cell_type": "markdown",
   "id": "913038fe",
   "metadata": {},
   "source": [
    "### 2.3 Rooms"
   ]
  },
  {
   "cell_type": "code",
   "execution_count": 10,
   "id": "6ff04a34",
   "metadata": {},
   "outputs": [
    {
     "data": {
      "text/plain": [
       "count    8000.000000\n",
       "mean        1.890000\n",
       "std         0.842163\n",
       "min         0.000000\n",
       "25%         1.000000\n",
       "50%         2.000000\n",
       "75%         2.000000\n",
       "max        19.000000\n",
       "Name: Rooms, dtype: float64"
      ]
     },
     "execution_count": 10,
     "metadata": {},
     "output_type": "execute_result"
    }
   ],
   "source": [
    "train_df['Rooms'].describe()"
   ]
  },
  {
   "cell_type": "markdown",
   "id": "eaf5b2f1",
   "metadata": {},
   "source": [
    "Заменим выбросы на медианы:"
   ]
  },
  {
   "cell_type": "code",
   "execution_count": 11,
   "id": "dd8d985d",
   "metadata": {},
   "outputs": [],
   "source": [
    "for df in [train_df, test_df, predict_df]:\n",
    "    df.loc[ (df['Rooms'] < df['Rooms'].quantile(0.005)) |\n",
    "        (df['Rooms'] > df['Rooms'].quantile(0.995)), 'Rooms'] = df['Rooms'].median()"
   ]
  },
  {
   "cell_type": "markdown",
   "id": "8cec2032",
   "metadata": {},
   "source": [
    "Проверим распредение значений:"
   ]
  },
  {
   "cell_type": "code",
   "execution_count": 12,
   "id": "10a5c822",
   "metadata": {},
   "outputs": [
    {
     "data": {
      "text/plain": [
       "<AxesSubplot:ylabel='Frequency'>"
      ]
     },
     "execution_count": 12,
     "metadata": {},
     "output_type": "execute_result"
    },
    {
     "data": {
      "image/png": "[encoded data removed]",
      "text/plain": [
       "<Figure size 432x288 with 1 Axes>"
      ]
     },
     "metadata": {
      "needs_background": "light"
     },
     "output_type": "display_data"
    }
   ],
   "source": [
    "train_df['Rooms'].plot.hist()"
   ]
  },
  {
   "cell_type": "markdown",
   "id": "a43f70b5",
   "metadata": {},
   "source": [
    "### 2.4 Ecology, Shops (категориальные фичи)"
   ]
  },
  {
   "cell_type": "code",
   "execution_count": 13,
   "id": "5688abd1",
   "metadata": {},
   "outputs": [
    {
     "data": {
      "text/html": [
       "<div>\n",
       "<style scoped>\n",
       "    .dataframe tbody tr th:only-of-type {\n",
       "        vertical-align: middle;\n",
       "    }\n",
       "\n",
       "    .dataframe tbody tr th {\n",
       "        vertical-align: top;\n",
       "    }\n",
       "\n",
       "    .dataframe thead th {\n",
       "        text-align: right;\n",
       "    }\n",
       "</style>\n",
       "<table border=\"1\" class=\"dataframe\">\n",
       "  <thead>\n",
       "    <tr style=\"text-align: right;\">\n",
       "      <th></th>\n",
       "      <th>Shops_2</th>\n",
       "      <th>Ecology_3</th>\n",
       "      <th>Ecology_2</th>\n",
       "    </tr>\n",
       "  </thead>\n",
       "  <tbody>\n",
       "    <tr>\n",
       "      <th>count</th>\n",
       "      <td>8000</td>\n",
       "      <td>8000</td>\n",
       "      <td>8000</td>\n",
       "    </tr>\n",
       "    <tr>\n",
       "      <th>unique</th>\n",
       "      <td>2</td>\n",
       "      <td>2</td>\n",
       "      <td>2</td>\n",
       "    </tr>\n",
       "    <tr>\n",
       "      <th>top</th>\n",
       "      <td>B</td>\n",
       "      <td>B</td>\n",
       "      <td>B</td>\n",
       "    </tr>\n",
       "    <tr>\n",
       "      <th>freq</th>\n",
       "      <td>7342</td>\n",
       "      <td>7771</td>\n",
       "      <td>7925</td>\n",
       "    </tr>\n",
       "  </tbody>\n",
       "</table>\n",
       "</div>"
      ],
      "text/plain": [
       "       Shops_2 Ecology_3 Ecology_2\n",
       "count     8000      8000      8000\n",
       "unique       2         2         2\n",
       "top          B         B         B\n",
       "freq      7342      7771      7925"
      ]
     },
     "execution_count": 13,
     "metadata": {},
     "output_type": "execute_result"
    }
   ],
   "source": [
    "train_df[['Shops_2', 'Ecology_3', 'Ecology_2']].describe()"
   ]
  },
  {
   "cell_type": "markdown",
   "id": "a8d1a4a0",
   "metadata": {},
   "source": [
    "Видно, что в категориальных колонках всего по 2 уникальных значения. Заменим их на \"думи\"-колонки:"
   ]
  },
  {
   "cell_type": "code",
   "execution_count": 14,
   "id": "d6545591",
   "metadata": {},
   "outputs": [
    {
     "data": {
      "text/html": [
       "<div>\n",
       "<style scoped>\n",
       "    .dataframe tbody tr th:only-of-type {\n",
       "        vertical-align: middle;\n",
       "    }\n",
       "\n",
       "    .dataframe tbody tr th {\n",
       "        vertical-align: top;\n",
       "    }\n",
       "\n",
       "    .dataframe thead th {\n",
       "        text-align: right;\n",
       "    }\n",
       "</style>\n",
       "<table border=\"1\" class=\"dataframe\">\n",
       "  <thead>\n",
       "    <tr style=\"text-align: right;\">\n",
       "      <th></th>\n",
       "      <th>DistrictId</th>\n",
       "      <th>Rooms</th>\n",
       "      <th>Square</th>\n",
       "      <th>LifeSquare</th>\n",
       "      <th>KitchenSquare</th>\n",
       "      <th>Floor</th>\n",
       "      <th>HouseFloor</th>\n",
       "      <th>HouseYear</th>\n",
       "      <th>Ecology_1</th>\n",
       "      <th>Social_1</th>\n",
       "      <th>...</th>\n",
       "      <th>Healthcare_1</th>\n",
       "      <th>Helthcare_2</th>\n",
       "      <th>Shops_1</th>\n",
       "      <th>Price</th>\n",
       "      <th>Shops_2_A</th>\n",
       "      <th>Shops_2_B</th>\n",
       "      <th>Ecology_3_A</th>\n",
       "      <th>Ecology_3_B</th>\n",
       "      <th>Ecology_2_A</th>\n",
       "      <th>Ecology_2_B</th>\n",
       "    </tr>\n",
       "  </thead>\n",
       "  <tbody>\n",
       "    <tr>\n",
       "      <th>5504</th>\n",
       "      <td>21</td>\n",
       "      <td>2.0</td>\n",
       "      <td>48.312201</td>\n",
       "      <td>27.764944</td>\n",
       "      <td>6.0</td>\n",
       "      <td>6</td>\n",
       "      <td>9.0</td>\n",
       "      <td>1973</td>\n",
       "      <td>0.194489</td>\n",
       "      <td>47</td>\n",
       "      <td>...</td>\n",
       "      <td>125.0</td>\n",
       "      <td>3</td>\n",
       "      <td>5</td>\n",
       "      <td>175541.296016</td>\n",
       "      <td>0</td>\n",
       "      <td>1</td>\n",
       "      <td>0</td>\n",
       "      <td>1</td>\n",
       "      <td>0</td>\n",
       "      <td>1</td>\n",
       "    </tr>\n",
       "    <tr>\n",
       "      <th>5307</th>\n",
       "      <td>89</td>\n",
       "      <td>2.0</td>\n",
       "      <td>42.024904</td>\n",
       "      <td>40.131440</td>\n",
       "      <td>7.0</td>\n",
       "      <td>5</td>\n",
       "      <td>8.0</td>\n",
       "      <td>1962</td>\n",
       "      <td>0.136330</td>\n",
       "      <td>30</td>\n",
       "      <td>...</td>\n",
       "      <td>262.0</td>\n",
       "      <td>3</td>\n",
       "      <td>6</td>\n",
       "      <td>199970.676319</td>\n",
       "      <td>0</td>\n",
       "      <td>1</td>\n",
       "      <td>0</td>\n",
       "      <td>1</td>\n",
       "      <td>0</td>\n",
       "      <td>1</td>\n",
       "    </tr>\n",
       "    <tr>\n",
       "      <th>1684</th>\n",
       "      <td>39</td>\n",
       "      <td>1.0</td>\n",
       "      <td>35.781532</td>\n",
       "      <td>19.250272</td>\n",
       "      <td>6.0</td>\n",
       "      <td>10</td>\n",
       "      <td>9.0</td>\n",
       "      <td>1974</td>\n",
       "      <td>0.428826</td>\n",
       "      <td>25</td>\n",
       "      <td>...</td>\n",
       "      <td>730.0</td>\n",
       "      <td>0</td>\n",
       "      <td>2</td>\n",
       "      <td>151123.744385</td>\n",
       "      <td>0</td>\n",
       "      <td>1</td>\n",
       "      <td>0</td>\n",
       "      <td>1</td>\n",
       "      <td>0</td>\n",
       "      <td>1</td>\n",
       "    </tr>\n",
       "    <tr>\n",
       "      <th>2441</th>\n",
       "      <td>48</td>\n",
       "      <td>2.0</td>\n",
       "      <td>61.227091</td>\n",
       "      <td>35.230768</td>\n",
       "      <td>10.0</td>\n",
       "      <td>17</td>\n",
       "      <td>16.0</td>\n",
       "      <td>1983</td>\n",
       "      <td>0.041125</td>\n",
       "      <td>46</td>\n",
       "      <td>...</td>\n",
       "      <td>NaN</td>\n",
       "      <td>1</td>\n",
       "      <td>10</td>\n",
       "      <td>325719.115923</td>\n",
       "      <td>0</td>\n",
       "      <td>1</td>\n",
       "      <td>0</td>\n",
       "      <td>1</td>\n",
       "      <td>0</td>\n",
       "      <td>1</td>\n",
       "    </tr>\n",
       "    <tr>\n",
       "      <th>0</th>\n",
       "      <td>27</td>\n",
       "      <td>3.0</td>\n",
       "      <td>115.027311</td>\n",
       "      <td>NaN</td>\n",
       "      <td>10.0</td>\n",
       "      <td>4</td>\n",
       "      <td>10.0</td>\n",
       "      <td>2014</td>\n",
       "      <td>0.075424</td>\n",
       "      <td>11</td>\n",
       "      <td>...</td>\n",
       "      <td>NaN</td>\n",
       "      <td>0</td>\n",
       "      <td>0</td>\n",
       "      <td>305018.871089</td>\n",
       "      <td>0</td>\n",
       "      <td>1</td>\n",
       "      <td>0</td>\n",
       "      <td>1</td>\n",
       "      <td>0</td>\n",
       "      <td>1</td>\n",
       "    </tr>\n",
       "  </tbody>\n",
       "</table>\n",
       "<p>5 rows × 22 columns</p>\n",
       "</div>"
      ],
      "text/plain": [
       "      DistrictId  Rooms      Square  LifeSquare  KitchenSquare  Floor  \\\n",
       "5504          21    2.0   48.312201   27.764944            6.0      6   \n",
       "5307          89    2.0   42.024904   40.131440            7.0      5   \n",
       "1684          39    1.0   35.781532   19.250272            6.0     10   \n",
       "2441          48    2.0   61.227091   35.230768           10.0     17   \n",
       "0             27    3.0  115.027311         NaN           10.0      4   \n",
       "\n",
       "      HouseFloor  HouseYear  Ecology_1  Social_1  ...  Healthcare_1  \\\n",
       "5504         9.0       1973   0.194489        47  ...         125.0   \n",
       "5307         8.0       1962   0.136330        30  ...         262.0   \n",
       "1684         9.0       1974   0.428826        25  ...         730.0   \n",
       "2441        16.0       1983   0.041125        46  ...           NaN   \n",
       "0           10.0       2014   0.075424        11  ...           NaN   \n",
       "\n",
       "      Helthcare_2  Shops_1          Price  Shops_2_A  Shops_2_B  Ecology_3_A  \\\n",
       "5504            3        5  175541.296016          0          1            0   \n",
       "5307            3        6  199970.676319          0          1            0   \n",
       "1684            0        2  151123.744385          0          1            0   \n",
       "2441            1       10  325719.115923          0          1            0   \n",
       "0               0        0  305018.871089          0          1            0   \n",
       "\n",
       "      Ecology_3_B  Ecology_2_A  Ecology_2_B  \n",
       "5504            1            0            1  \n",
       "5307            1            0            1  \n",
       "1684            1            0            1  \n",
       "2441            1            0            1  \n",
       "0               1            0            1  \n",
       "\n",
       "[5 rows x 22 columns]"
      ]
     },
     "execution_count": 14,
     "metadata": {},
     "output_type": "execute_result"
    }
   ],
   "source": [
    "cats = ['Shops_2', 'Ecology_3', 'Ecology_2']\n",
    "\n",
    "train_df = pd.concat([train_df, pd.get_dummies(train_df[cats])],axis=1)\n",
    "test_df = pd.concat([test_df, pd.get_dummies(test_df[cats])],axis=1)\n",
    "predict_df = pd.concat([predict_df, pd.get_dummies(predict_df[cats])],axis=1)\n",
    "    \n",
    "for df in [train_df, test_df, predict_df]:\n",
    "    df.drop(['Ecology_2', 'Ecology_3', 'Shops_2'], axis=1, inplace=True)\n",
    "    \n",
    "train_df.head()"
   ]
  },
  {
   "cell_type": "markdown",
   "id": "a7ba41a5",
   "metadata": {},
   "source": [
    "### 2.5 Healthcare_1"
   ]
  },
  {
   "cell_type": "code",
   "execution_count": 15,
   "id": "5dab45c2",
   "metadata": {},
   "outputs": [
    {
     "data": {
      "text/plain": [
       "count    4139.000000\n",
       "mean     1148.117178\n",
       "std      1025.967365\n",
       "min        30.000000\n",
       "25%       350.000000\n",
       "50%       900.000000\n",
       "75%      1548.000000\n",
       "max      4849.000000\n",
       "Name: Healthcare_1, dtype: float64"
      ]
     },
     "execution_count": 15,
     "metadata": {},
     "output_type": "execute_result"
    }
   ],
   "source": [
    "train_df['Healthcare_1'].describe()"
   ]
  },
  {
   "cell_type": "markdown",
   "id": "31a50d6b",
   "metadata": {},
   "source": [
    "Уберем выбросы, но оставим пустые значения, которых очень много:"
   ]
  },
  {
   "cell_type": "code",
   "execution_count": 16,
   "id": "01eb08bb",
   "metadata": {},
   "outputs": [
    {
     "data": {
      "text/plain": [
       "count    8000.000000\n",
       "mean     1011.990625\n",
       "std       707.594309\n",
       "min        30.000000\n",
       "25%       830.000000\n",
       "50%       900.000000\n",
       "75%       990.000000\n",
       "max      4508.000000\n",
       "Name: Healthcare_1, dtype: float64"
      ]
     },
     "execution_count": 16,
     "metadata": {},
     "output_type": "execute_result"
    }
   ],
   "source": [
    "for df in [train_df, test_df, predict_df]:\n",
    "    df.loc[df['Healthcare_1'].isnull() |\n",
    "            ((df['Healthcare_1'] > df['Healthcare_1'].quantile(.99)) |\n",
    "            (df['Healthcare_1'] < df['Healthcare_1'].quantile(.01))), 'Healthcare_1'] = df['Healthcare_1'].median()\n",
    "\n",
    "train_df['Healthcare_1'].describe()"
   ]
  },
  {
   "cell_type": "code",
   "execution_count": 17,
   "id": "4918fa50",
   "metadata": {},
   "outputs": [
    {
     "data": {
      "text/plain": [
       "<AxesSubplot:ylabel='Frequency'>"
      ]
     },
     "execution_count": 17,
     "metadata": {},
     "output_type": "execute_result"
    },
    {
     "data": {
      "image/png": "[encoded data removed]",
      "text/plain": [
       "<Figure size 432x288 with 1 Axes>"
      ]
     },
     "metadata": {
      "needs_background": "light"
     },
     "output_type": "display_data"
    }
   ],
   "source": [
    "train_df['Healthcare_1'].plot.hist()"
   ]
  },
  {
   "cell_type": "markdown",
   "id": "32cbb913",
   "metadata": {},
   "source": [
    "Заменим пустые значения на медиану"
   ]
  },
  {
   "cell_type": "markdown",
   "id": "8d5bebc9",
   "metadata": {},
   "source": [
    "### 2.6 Square, LifeSquare, KitchenSquare"
   ]
  },
  {
   "cell_type": "code",
   "execution_count": 18,
   "id": "8324aa47",
   "metadata": {},
   "outputs": [
    {
     "data": {
      "text/plain": [
       "count    8000.000000\n",
       "mean       56.298586\n",
       "std        21.407827\n",
       "min         1.988943\n",
       "25%        41.828619\n",
       "50%        52.535436\n",
       "75%        65.845314\n",
       "max       641.065193\n",
       "Name: Square, dtype: float64"
      ]
     },
     "execution_count": 18,
     "metadata": {},
     "output_type": "execute_result"
    }
   ],
   "source": [
    "train_df['Square'].describe()"
   ]
  },
  {
   "cell_type": "markdown",
   "id": "2787005b",
   "metadata": {},
   "source": [
    "Прикинем сколько нужно отрезать, чтобы убрать выбросы:"
   ]
  },
  {
   "cell_type": "code",
   "execution_count": 19,
   "id": "a3a0ec55",
   "metadata": {},
   "outputs": [
    {
     "data": {
      "text/plain": [
       "<AxesSubplot:ylabel='Frequency'>"
      ]
     },
     "execution_count": 19,
     "metadata": {},
     "output_type": "execute_result"
    },
    {
     "data": {
      "image/png": "[encoded data removed]",
      "text/plain": [
       "<Figure size 432x288 with 1 Axes>"
      ]
     },
     "metadata": {
      "needs_background": "light"
     },
     "output_type": "display_data"
    }
   ],
   "source": [
    "train_df[(train_df['Square'] < train_df['Square'].quantile(0.005)) |\n",
    "        (train_df['Square'] > train_df['Square'].quantile(0.995))]['Square'].plot.hist()"
   ]
  },
  {
   "cell_type": "markdown",
   "id": "acdbbff3",
   "metadata": {},
   "source": [
    "Около 1% всех значений, выкинем их при тренировке:"
   ]
  },
  {
   "cell_type": "code",
   "execution_count": 20,
   "id": "9192f83b",
   "metadata": {},
   "outputs": [],
   "source": [
    "train_df = train_df[(train_df['Square'] >= train_df['Square'].quantile(0.005)) &\n",
    "                    (train_df['Square'] <= train_df['Square'].quantile(0.995))]"
   ]
  },
  {
   "cell_type": "code",
   "execution_count": 21,
   "id": "41dd0300",
   "metadata": {},
   "outputs": [
    {
     "data": {
      "image/png": "[encoded data removed]",
      "text/plain": [
       "<Figure size 432x288 with 1 Axes>"
      ]
     },
     "metadata": {
      "needs_background": "light"
     },
     "output_type": "display_data"
    }
   ],
   "source": [
    "train_df['Square'].plot.hist()\n",
    "plt.show()"
   ]
  },
  {
   "cell_type": "markdown",
   "id": "3fbd6465",
   "metadata": {},
   "source": [
    "#### 2.6.1 KitchenSquare"
   ]
  },
  {
   "cell_type": "code",
   "execution_count": 22,
   "id": "ec0b7e3a",
   "metadata": {},
   "outputs": [
    {
     "data": {
      "text/plain": [
       "count    7920.000000\n",
       "mean        6.128157\n",
       "std        22.693266\n",
       "min         0.000000\n",
       "25%         1.000000\n",
       "50%         6.000000\n",
       "75%         9.000000\n",
       "max      1970.000000\n",
       "Name: KitchenSquare, dtype: float64"
      ]
     },
     "execution_count": 22,
     "metadata": {},
     "output_type": "execute_result"
    }
   ],
   "source": [
    "train_df['KitchenSquare'].describe()"
   ]
  },
  {
   "cell_type": "markdown",
   "id": "df106d13",
   "metadata": {},
   "source": [
    "Видно, что у нас есть ошибки, пофиксим (посмотрим, какие нужно убрать и удалим):"
   ]
  },
  {
   "cell_type": "code",
   "execution_count": 23,
   "id": "f2f9e123",
   "metadata": {},
   "outputs": [
    {
     "data": {
      "text/plain": [
       "<AxesSubplot:ylabel='Frequency'>"
      ]
     },
     "execution_count": 23,
     "metadata": {},
     "output_type": "execute_result"
    },
    {
     "data": {
      "image/png": "[encoded data removed]",
      "text/plain": [
       "<Figure size 432x288 with 1 Axes>"
      ]
     },
     "metadata": {
      "needs_background": "light"
     },
     "output_type": "display_data"
    }
   ],
   "source": [
    "train_df[train_df['KitchenSquare'] < train_df['KitchenSquare'].quantile(0.999)]['KitchenSquare'].plot.hist()"
   ]
  },
  {
   "cell_type": "code",
   "execution_count": 24,
   "id": "c3bc4e85",
   "metadata": {},
   "outputs": [],
   "source": [
    "train_df = train_df[train_df['KitchenSquare'] < train_df['KitchenSquare'].quantile(0.999)]"
   ]
  },
  {
   "cell_type": "markdown",
   "id": "637a6ea7",
   "metadata": {},
   "source": [
    "Случаи, когда площадь кухни больше квартиры:"
   ]
  },
  {
   "cell_type": "code",
   "execution_count": 25,
   "id": "3435124f",
   "metadata": {},
   "outputs": [
    {
     "data": {
      "text/plain": [
       "22"
      ]
     },
     "execution_count": 25,
     "metadata": {},
     "output_type": "execute_result"
    }
   ],
   "source": [
    "train_df[train_df['KitchenSquare']>=train_df['Square']].size"
   ]
  },
  {
   "cell_type": "markdown",
   "id": "900d8602",
   "metadata": {},
   "source": [
    "Также выкинем эти значения:"
   ]
  },
  {
   "cell_type": "code",
   "execution_count": 26,
   "id": "baa120ae",
   "metadata": {},
   "outputs": [],
   "source": [
    "# train_df = train_df[train_df['KitchenSquare']<train_df['Square']]"
   ]
  },
  {
   "cell_type": "markdown",
   "id": "26988fc3",
   "metadata": {},
   "source": [
    "#### 2.6.2 LifeSquare"
   ]
  },
  {
   "cell_type": "code",
   "execution_count": 27,
   "id": "74dfb6dc",
   "metadata": {},
   "outputs": [
    {
     "data": {
      "text/plain": [
       "count    6242.000000\n",
       "mean       35.787246\n",
       "std        17.724798\n",
       "min         0.370619\n",
       "25%        22.838608\n",
       "50%        32.750186\n",
       "75%        44.939719\n",
       "max       461.463614\n",
       "Name: LifeSquare, dtype: float64"
      ]
     },
     "execution_count": 27,
     "metadata": {},
     "output_type": "execute_result"
    }
   ],
   "source": [
    "train_df['LifeSquare'].describe()"
   ]
  },
  {
   "cell_type": "markdown",
   "id": "534043a4",
   "metadata": {},
   "source": [
    "Уберем выбросы пересчитав относительно доли средней площади:"
   ]
  },
  {
   "cell_type": "code",
   "execution_count": 28,
   "id": "5c65ac35",
   "metadata": {},
   "outputs": [
    {
     "data": {
      "image/png": "[encoded data removed]",
      "text/plain": [
       "<Figure size 432x288 with 1 Axes>"
      ]
     },
     "metadata": {
      "needs_background": "light"
     },
     "output_type": "display_data"
    }
   ],
   "source": [
    "for df in [train_df, test_df, predict_df]:\n",
    "    df.loc[(df['LifeSquare'].isnull()) |\n",
    "           (df['LifeSquare'] > df['LifeSquare'].quantile(.975)) |\n",
    "            (df['LifeSquare'] < df['LifeSquare'].quantile(.025)), 'LifeSquare'] =\\\n",
    "        df['Square'] * ((df['LifeSquare']/df['Square']).median())\n",
    "\n",
    "train_df['LifeSquare'].plot.hist()\n",
    "plt.show()"
   ]
  },
  {
   "cell_type": "markdown",
   "id": "4226eca3",
   "metadata": {},
   "source": [
    "### 2.7 Floor и HouseFloor"
   ]
  },
  {
   "cell_type": "code",
   "execution_count": 29,
   "id": "4b22c452",
   "metadata": {},
   "outputs": [
    {
     "data": {
      "text/plain": [
       "213"
      ]
     },
     "execution_count": 29,
     "metadata": {},
     "output_type": "execute_result"
    }
   ],
   "source": [
    "train_df[train_df['HouseFloor']==0]['HouseFloor'].size"
   ]
  },
  {
   "cell_type": "markdown",
   "id": "f547f45c",
   "metadata": {},
   "source": [
    "Этажность дома не указана для 11 вариантов, выбросим:"
   ]
  },
  {
   "cell_type": "code",
   "execution_count": 30,
   "id": "15954b91",
   "metadata": {},
   "outputs": [],
   "source": [
    "train_df = train_df[train_df['HouseFloor'] > 0]"
   ]
  },
  {
   "cell_type": "markdown",
   "id": "3a31909e",
   "metadata": {},
   "source": [
    "Также у нас есть ряд квартир, у которых этаж больше этажности дома, понизим его:"
   ]
  },
  {
   "cell_type": "code",
   "execution_count": 31,
   "id": "55400f5b",
   "metadata": {},
   "outputs": [],
   "source": [
    "for df in [train_df, test_df, predict_df]:\n",
    "    df.loc[df['Floor'] > df['HouseFloor'], 'Floor'] = df['HouseFloor']"
   ]
  },
  {
   "cell_type": "markdown",
   "id": "64eb1bc2",
   "metadata": {},
   "source": [
    "Введем новую метрику - этаж квартиры относительно этажности дома:"
   ]
  },
  {
   "cell_type": "code",
   "execution_count": 32,
   "id": "03dbf8f6",
   "metadata": {},
   "outputs": [
    {
     "data": {
      "text/plain": [
       "<AxesSubplot:ylabel='Frequency'>"
      ]
     },
     "execution_count": 32,
     "metadata": {},
     "output_type": "execute_result"
    },
    {
     "data": {
      "image/png": "[encoded data removed]",
      "text/plain": [
       "<Figure size 432x288 with 1 Axes>"
      ]
     },
     "metadata": {
      "needs_background": "light"
     },
     "output_type": "display_data"
    }
   ],
   "source": [
    "for df in [train_df, test_df, predict_df]:\n",
    "    df['Floor_Rel'] = df['Floor'] / df['HouseFloor']\n",
    "    \n",
    "train_df['Floor_Rel'].plot.hist()"
   ]
  },
  {
   "cell_type": "markdown",
   "id": "120bb271",
   "metadata": {},
   "source": [
    "### 2.8 HouseYear"
   ]
  },
  {
   "cell_type": "code",
   "execution_count": 33,
   "id": "17c69b06",
   "metadata": {},
   "outputs": [
    {
     "data": {
      "text/html": [
       "<div>\n",
       "<style scoped>\n",
       "    .dataframe tbody tr th:only-of-type {\n",
       "        vertical-align: middle;\n",
       "    }\n",
       "\n",
       "    .dataframe tbody tr th {\n",
       "        vertical-align: top;\n",
       "    }\n",
       "\n",
       "    .dataframe thead th {\n",
       "        text-align: right;\n",
       "    }\n",
       "</style>\n",
       "<table border=\"1\" class=\"dataframe\">\n",
       "  <thead>\n",
       "    <tr style=\"text-align: right;\">\n",
       "      <th></th>\n",
       "      <th>DistrictId</th>\n",
       "      <th>Rooms</th>\n",
       "      <th>Square</th>\n",
       "      <th>LifeSquare</th>\n",
       "      <th>KitchenSquare</th>\n",
       "      <th>Floor</th>\n",
       "      <th>HouseFloor</th>\n",
       "      <th>HouseYear</th>\n",
       "      <th>Ecology_1</th>\n",
       "      <th>Social_1</th>\n",
       "      <th>...</th>\n",
       "      <th>Helthcare_2</th>\n",
       "      <th>Shops_1</th>\n",
       "      <th>Price</th>\n",
       "      <th>Shops_2_A</th>\n",
       "      <th>Shops_2_B</th>\n",
       "      <th>Ecology_3_A</th>\n",
       "      <th>Ecology_3_B</th>\n",
       "      <th>Ecology_2_A</th>\n",
       "      <th>Ecology_2_B</th>\n",
       "      <th>Floor_Rel</th>\n",
       "    </tr>\n",
       "  </thead>\n",
       "  <tbody>\n",
       "    <tr>\n",
       "      <th>8828</th>\n",
       "      <td>147</td>\n",
       "      <td>2.0</td>\n",
       "      <td>44.791836</td>\n",
       "      <td>28.360393</td>\n",
       "      <td>5.0</td>\n",
       "      <td>4</td>\n",
       "      <td>9.0</td>\n",
       "      <td>4968</td>\n",
       "      <td>0.319809</td>\n",
       "      <td>25</td>\n",
       "      <td>...</td>\n",
       "      <td>5</td>\n",
       "      <td>8</td>\n",
       "      <td>243028.603096</td>\n",
       "      <td>0</td>\n",
       "      <td>1</td>\n",
       "      <td>0</td>\n",
       "      <td>1</td>\n",
       "      <td>0</td>\n",
       "      <td>1</td>\n",
       "      <td>0.444444</td>\n",
       "    </tr>\n",
       "    <tr>\n",
       "      <th>9163</th>\n",
       "      <td>109</td>\n",
       "      <td>1.0</td>\n",
       "      <td>37.265070</td>\n",
       "      <td>20.239714</td>\n",
       "      <td>9.0</td>\n",
       "      <td>9</td>\n",
       "      <td>12.0</td>\n",
       "      <td>20052011</td>\n",
       "      <td>0.136330</td>\n",
       "      <td>30</td>\n",
       "      <td>...</td>\n",
       "      <td>3</td>\n",
       "      <td>6</td>\n",
       "      <td>254084.534396</td>\n",
       "      <td>0</td>\n",
       "      <td>1</td>\n",
       "      <td>0</td>\n",
       "      <td>1</td>\n",
       "      <td>0</td>\n",
       "      <td>1</td>\n",
       "      <td>0.750000</td>\n",
       "    </tr>\n",
       "  </tbody>\n",
       "</table>\n",
       "<p>2 rows × 23 columns</p>\n",
       "</div>"
      ],
      "text/plain": [
       "      DistrictId  Rooms     Square  LifeSquare  KitchenSquare  Floor  \\\n",
       "8828         147    2.0  44.791836   28.360393            5.0      4   \n",
       "9163         109    1.0  37.265070   20.239714            9.0      9   \n",
       "\n",
       "      HouseFloor  HouseYear  Ecology_1  Social_1  ...  Helthcare_2  Shops_1  \\\n",
       "8828         9.0       4968   0.319809        25  ...            5        8   \n",
       "9163        12.0   20052011   0.136330        30  ...            3        6   \n",
       "\n",
       "              Price  Shops_2_A  Shops_2_B  Ecology_3_A  Ecology_3_B  \\\n",
       "8828  243028.603096          0          1            0            1   \n",
       "9163  254084.534396          0          1            0            1   \n",
       "\n",
       "      Ecology_2_A  Ecology_2_B  Floor_Rel  \n",
       "8828            0            1   0.444444  \n",
       "9163            0            1   0.750000  \n",
       "\n",
       "[2 rows x 23 columns]"
      ]
     },
     "execution_count": 33,
     "metadata": {},
     "output_type": "execute_result"
    }
   ],
   "source": [
    "train_df[train_df['HouseYear'] > 2022]"
   ]
  },
  {
   "cell_type": "markdown",
   "id": "04428746",
   "metadata": {},
   "source": [
    "Поправим явные ошибки:"
   ]
  },
  {
   "cell_type": "code",
   "execution_count": 34,
   "id": "cab46401",
   "metadata": {},
   "outputs": [],
   "source": [
    "train_df.loc[train_df['HouseYear'] == 20052011, 'HouseYear'] = 2005"
   ]
  },
  {
   "cell_type": "code",
   "execution_count": 35,
   "id": "5d6ab7a2",
   "metadata": {},
   "outputs": [],
   "source": [
    "train_df.loc[train_df['HouseYear'] > 2022,'HouseYear'] = 2022"
   ]
  },
  {
   "cell_type": "code",
   "execution_count": 36,
   "id": "ea2df8b7",
   "metadata": {},
   "outputs": [
    {
     "data": {
      "text/plain": [
       "<AxesSubplot:ylabel='Frequency'>"
      ]
     },
     "execution_count": 36,
     "metadata": {},
     "output_type": "execute_result"
    },
    {
     "data": {
      "image/png": "[encoded data removed]",
      "text/plain": [
       "<Figure size 432x288 with 1 Axes>"
      ]
     },
     "metadata": {
      "needs_background": "light"
     },
     "output_type": "display_data"
    }
   ],
   "source": [
    "predict_df['HouseYear'].plot.hist()"
   ]
  },
  {
   "cell_type": "markdown",
   "id": "d4de0aa0",
   "metadata": {},
   "source": [
    "Видно, что все года постройки можно кластеризовать по десятилетиям (выгодно, чтобы посчитать стоимость метра от года и покрыть потенциально неизвестные года). Для этого создадим новую фичу:"
   ]
  },
  {
   "cell_type": "code",
   "execution_count": 37,
   "id": "3b707675",
   "metadata": {},
   "outputs": [
    {
     "data": {
      "text/plain": [
       "[]"
      ]
     },
     "execution_count": 37,
     "metadata": {},
     "output_type": "execute_result"
    }
   ],
   "source": [
    "for df in [train_df, test_df, predict_df]:\n",
    "    df['HouseYear_Group'] = round(df['HouseYear']/10)\n",
    "\n",
    "def Diff(li1, li2):\n",
    "    return list(set(li1) - set(li2)) + list(set(li2) - set(li1))\n",
    "\n",
    "Diff(train_df['HouseYear_Group'].unique(), predict_df['HouseYear_Group'].unique())"
   ]
  },
  {
   "cell_type": "markdown",
   "id": "3d95d05c",
   "metadata": {},
   "source": [
    "Отлично, все группы годов из проверочного сета покрываем тренировочной выборкой"
   ]
  },
  {
   "cell_type": "markdown",
   "id": "80bf2a05",
   "metadata": {},
   "source": [
    "### 2.9 Метрики качества инфраструктуры"
   ]
  },
  {
   "cell_type": "code",
   "execution_count": 38,
   "id": "40dd5e4c",
   "metadata": {},
   "outputs": [
    {
     "data": {
      "text/plain": [
       "<AxesSubplot:ylabel='Frequency'>"
      ]
     },
     "execution_count": 38,
     "metadata": {},
     "output_type": "execute_result"
    },
    {
     "data": {
      "image/png": "[encoded data removed]",
      "text/plain": [
       "<Figure size 432x288 with 1 Axes>"
      ]
     },
     "metadata": {
      "needs_background": "light"
     },
     "output_type": "display_data"
    }
   ],
   "source": [
    "quality_metrics = {\n",
    "    \"Eco\":    ['Ecology_1', 'Ecology_2_A', 'Ecology_2_B', 'Ecology_3_A', 'Ecology_3_B'],\n",
    "    \"Social\": ['Social_1', 'Social_2', 'Social_3'],\n",
    "    \"Health\": ['Healthcare_1', 'Helthcare_2'],\n",
    "    \"Shops\":  ['Shops_1', 'Shops_2_A', 'Shops_2_B']\n",
    "}\n",
    "\n",
    "train_df['Ecology_1'].plot.hist()"
   ]
  },
  {
   "cell_type": "markdown",
   "id": "fb5f27fc",
   "metadata": {},
   "source": [
    "Сделаем более крупные группы экологии для последующих расчетов относительной цены:"
   ]
  },
  {
   "cell_type": "code",
   "execution_count": 39,
   "id": "b2c43fc2",
   "metadata": {},
   "outputs": [
    {
     "data": {
      "text/plain": [
       "<AxesSubplot:ylabel='Frequency'>"
      ]
     },
     "execution_count": 39,
     "metadata": {},
     "output_type": "execute_result"
    },
    {
     "data": {
      "image/png": "[encoded data removed]",
      "text/plain": [
       "<Figure size 432x288 with 1 Axes>"
      ]
     },
     "metadata": {
      "needs_background": "light"
     },
     "output_type": "display_data"
    }
   ],
   "source": [
    "for df in [train_df, test_df, predict_df]:\n",
    "    df['Ecology_1_Group'] = round(df['Ecology_1']*20)\n",
    "\n",
    "quality_metrics['Eco'][0] = 'Ecology_1_Group'\n",
    "\n",
    "predict_df['Ecology_1_Group'].plot.hist()"
   ]
  },
  {
   "cell_type": "code",
   "execution_count": 40,
   "id": "88f88696",
   "metadata": {},
   "outputs": [
    {
     "data": {
      "text/plain": [
       "<AxesSubplot:ylabel='Frequency'>"
      ]
     },
     "execution_count": 40,
     "metadata": {},
     "output_type": "execute_result"
    },
    {
     "data": {
      "image/png": "[encoded data removed]",
      "text/plain": [
       "<Figure size 432x288 with 1 Axes>"
      ]
     },
     "metadata": {
      "needs_background": "light"
     },
     "output_type": "display_data"
    }
   ],
   "source": [
    "train_df[quality_metrics['Social']].plot.hist(stacked=True)"
   ]
  },
  {
   "cell_type": "code",
   "execution_count": 41,
   "id": "39616c86",
   "metadata": {},
   "outputs": [
    {
     "data": {
      "text/plain": [
       "Social_1     51\n",
       "Social_2    143\n",
       "Social_3     30\n",
       "dtype: int64"
      ]
     },
     "execution_count": 41,
     "metadata": {},
     "output_type": "execute_result"
    }
   ],
   "source": [
    "predict_df[quality_metrics['Social']].nunique()"
   ]
  },
  {
   "cell_type": "code",
   "execution_count": 42,
   "id": "661a0385",
   "metadata": {},
   "outputs": [
    {
     "data": {
      "text/plain": [
       "<matplotlib.collections.PathCollection at 0x7f864b56dba0>"
      ]
     },
     "execution_count": 42,
     "metadata": {},
     "output_type": "execute_result"
    },
    {
     "data": {
      "image/png": "[encoded data removed]",
      "text/plain": [
       "<Figure size 432x288 with 1 Axes>"
      ]
     },
     "metadata": {
      "needs_background": "light"
     },
     "output_type": "display_data"
    }
   ],
   "source": [
    "plt.scatter(train_df['Healthcare_1'], train_df['Helthcare_2'])"
   ]
  },
  {
   "cell_type": "markdown",
   "id": "aa95e39f",
   "metadata": {},
   "source": [
    "Видно, что тут есть несколько стандартных значений, оставим так как есть."
   ]
  },
  {
   "cell_type": "code",
   "execution_count": 43,
   "id": "f9a5b303",
   "metadata": {},
   "outputs": [
    {
     "data": {
      "text/html": [
       "<div>\n",
       "<style scoped>\n",
       "    .dataframe tbody tr th:only-of-type {\n",
       "        vertical-align: middle;\n",
       "    }\n",
       "\n",
       "    .dataframe tbody tr th {\n",
       "        vertical-align: top;\n",
       "    }\n",
       "\n",
       "    .dataframe thead th {\n",
       "        text-align: right;\n",
       "    }\n",
       "</style>\n",
       "<table border=\"1\" class=\"dataframe\">\n",
       "  <thead>\n",
       "    <tr style=\"text-align: right;\">\n",
       "      <th></th>\n",
       "      <th>Shops_1</th>\n",
       "      <th>Shops_2_A</th>\n",
       "      <th>Shops_2_B</th>\n",
       "    </tr>\n",
       "  </thead>\n",
       "  <tbody>\n",
       "    <tr>\n",
       "      <th>5504</th>\n",
       "      <td>5</td>\n",
       "      <td>0</td>\n",
       "      <td>1</td>\n",
       "    </tr>\n",
       "    <tr>\n",
       "      <th>5307</th>\n",
       "      <td>6</td>\n",
       "      <td>0</td>\n",
       "      <td>1</td>\n",
       "    </tr>\n",
       "    <tr>\n",
       "      <th>1684</th>\n",
       "      <td>2</td>\n",
       "      <td>0</td>\n",
       "      <td>1</td>\n",
       "    </tr>\n",
       "    <tr>\n",
       "      <th>2441</th>\n",
       "      <td>10</td>\n",
       "      <td>0</td>\n",
       "      <td>1</td>\n",
       "    </tr>\n",
       "    <tr>\n",
       "      <th>0</th>\n",
       "      <td>0</td>\n",
       "      <td>0</td>\n",
       "      <td>1</td>\n",
       "    </tr>\n",
       "    <tr>\n",
       "      <th>5093</th>\n",
       "      <td>5</td>\n",
       "      <td>0</td>\n",
       "      <td>1</td>\n",
       "    </tr>\n",
       "    <tr>\n",
       "      <th>6708</th>\n",
       "      <td>5</td>\n",
       "      <td>0</td>\n",
       "      <td>1</td>\n",
       "    </tr>\n",
       "    <tr>\n",
       "      <th>4512</th>\n",
       "      <td>1</td>\n",
       "      <td>0</td>\n",
       "      <td>1</td>\n",
       "    </tr>\n",
       "    <tr>\n",
       "      <th>6078</th>\n",
       "      <td>0</td>\n",
       "      <td>0</td>\n",
       "      <td>1</td>\n",
       "    </tr>\n",
       "    <tr>\n",
       "      <th>9123</th>\n",
       "      <td>1</td>\n",
       "      <td>0</td>\n",
       "      <td>1</td>\n",
       "    </tr>\n",
       "  </tbody>\n",
       "</table>\n",
       "</div>"
      ],
      "text/plain": [
       "      Shops_1  Shops_2_A  Shops_2_B\n",
       "5504        5          0          1\n",
       "5307        6          0          1\n",
       "1684        2          0          1\n",
       "2441       10          0          1\n",
       "0           0          0          1\n",
       "5093        5          0          1\n",
       "6708        5          0          1\n",
       "4512        1          0          1\n",
       "6078        0          0          1\n",
       "9123        1          0          1"
      ]
     },
     "execution_count": 43,
     "metadata": {},
     "output_type": "execute_result"
    }
   ],
   "source": [
    "train_df[quality_metrics['Shops']].head(10)"
   ]
  },
  {
   "cell_type": "markdown",
   "id": "4ea460c4",
   "metadata": {},
   "source": [
    "Тут также несколько стандартных значений, оставим так как есть."
   ]
  },
  {
   "cell_type": "markdown",
   "id": "f353df0c",
   "metadata": {},
   "source": [
    "### 2.10 Относительная стоимость"
   ]
  },
  {
   "cell_type": "markdown",
   "id": "4f598d32",
   "metadata": {},
   "source": [
    "Добавим в расчеты стоимости относительно района, года постройки дома и других общих метрик, которые можно будет использовать при предсказании:"
   ]
  },
  {
   "cell_type": "code",
   "execution_count": 44,
   "id": "b191fca3",
   "metadata": {},
   "outputs": [
    {
     "data": {
      "text/plain": [
       "<AxesSubplot:ylabel='Frequency'>"
      ]
     },
     "execution_count": 44,
     "metadata": {},
     "output_type": "execute_result"
    },
    {
     "data": {
      "image/png": "[encoded data removed]",
      "text/plain": [
       "<Figure size 432x288 with 1 Axes>"
      ]
     },
     "metadata": {
      "needs_background": "light"
     },
     "output_type": "display_data"
    }
   ],
   "source": [
    "# Стоимость от количества комнат в районе\n",
    "\n",
    "# HouseYear_Group\n",
    "dist_room_price = train_df.groupby(['DistrictId', 'Rooms'], as_index=False).agg({'Price':'median'})\\\n",
    "                        .rename(columns={'Price':'Dist_Room_Price'})\n",
    "\n",
    "train_df = train_df.merge(dist_room_price, on=['DistrictId', 'Rooms'], how='left')\n",
    "test_df = test_df.merge(dist_room_price, on=['DistrictId', 'Rooms'], how='left')\n",
    "predict_df = predict_df.merge(dist_room_price, on=['DistrictId', 'Rooms'], how='left')\n",
    "\n",
    "predict_df['Dist_Room_Price'].plot.hist()"
   ]
  },
  {
   "cell_type": "code",
   "execution_count": 45,
   "id": "c3be48e7",
   "metadata": {},
   "outputs": [
    {
     "data": {
      "text/plain": [
       "<AxesSubplot:ylabel='Frequency'>"
      ]
     },
     "execution_count": 45,
     "metadata": {},
     "output_type": "execute_result"
    },
    {
     "data": {
      "image/png": "[encoded data removed]",
      "text/plain": [
       "<Figure size 432x288 with 1 Axes>"
      ]
     },
     "metadata": {
      "needs_background": "light"
     },
     "output_type": "display_data"
    }
   ],
   "source": [
    "# Стоимость одного метра в районе \n",
    "\n",
    "# HouseYear_Group\n",
    "dist_meter_price = train_df[['DistrictId', 'Square', 'Price']]\n",
    "dist_meter_price['Meter_Price'] = dist_meter_price['Price'] / dist_meter_price['Square']\n",
    "\n",
    "dist_meter_price = dist_meter_price.groupby(['DistrictId'], as_index=False).agg({'Meter_Price':'median'})\\\n",
    "                        .rename(columns={'Meter_Price':'Dist_Meter_Price'})\n",
    "\n",
    "train_df = train_df.merge(dist_meter_price, on=['DistrictId'], how='left')\n",
    "test_df = test_df.merge(dist_meter_price, on=['DistrictId'], how='left')\n",
    "predict_df = predict_df.merge(dist_meter_price, on=['DistrictId'], how='left')\n",
    "\n",
    "predict_df['Dist_Meter_Price'].plot.hist()"
   ]
  },
  {
   "cell_type": "code",
   "execution_count": 46,
   "id": "55411ac5",
   "metadata": {},
   "outputs": [
    {
     "data": {
      "text/html": [
       "<div>\n",
       "<style scoped>\n",
       "    .dataframe tbody tr th:only-of-type {\n",
       "        vertical-align: middle;\n",
       "    }\n",
       "\n",
       "    .dataframe tbody tr th {\n",
       "        vertical-align: top;\n",
       "    }\n",
       "\n",
       "    .dataframe thead th {\n",
       "        text-align: right;\n",
       "    }\n",
       "</style>\n",
       "<table border=\"1\" class=\"dataframe\">\n",
       "  <thead>\n",
       "    <tr style=\"text-align: right;\">\n",
       "      <th></th>\n",
       "      <th>Id</th>\n",
       "      <th>DistrictId</th>\n",
       "      <th>Rooms</th>\n",
       "      <th>Square</th>\n",
       "      <th>LifeSquare</th>\n",
       "      <th>KitchenSquare</th>\n",
       "      <th>Floor</th>\n",
       "      <th>HouseFloor</th>\n",
       "      <th>HouseYear</th>\n",
       "      <th>Ecology_1</th>\n",
       "      <th>...</th>\n",
       "      <th>Ecology_2_B</th>\n",
       "      <th>Floor_Rel</th>\n",
       "      <th>HouseYear_Group</th>\n",
       "      <th>Ecology_1_Group</th>\n",
       "      <th>Dist_Room_Price</th>\n",
       "      <th>Dist_Meter_Price</th>\n",
       "      <th>Eco_Room_Price</th>\n",
       "      <th>Social_Room_Price</th>\n",
       "      <th>Health_Room_Price</th>\n",
       "      <th>Shops_Room_Price</th>\n",
       "    </tr>\n",
       "  </thead>\n",
       "  <tbody>\n",
       "    <tr>\n",
       "      <th>0</th>\n",
       "      <td>4567</td>\n",
       "      <td>44</td>\n",
       "      <td>1.0</td>\n",
       "      <td>36.847630</td>\n",
       "      <td>19.094182</td>\n",
       "      <td>5.0</td>\n",
       "      <td>5</td>\n",
       "      <td>9.0</td>\n",
       "      <td>1970</td>\n",
       "      <td>0.036122</td>\n",
       "      <td>...</td>\n",
       "      <td>1</td>\n",
       "      <td>0.555556</td>\n",
       "      <td>197.0</td>\n",
       "      <td>1.0</td>\n",
       "      <td>170455.930747</td>\n",
       "      <td>4551.390039</td>\n",
       "      <td>157029.533599</td>\n",
       "      <td>170455.930747</td>\n",
       "      <td>170455.930747</td>\n",
       "      <td>147179.396107</td>\n",
       "    </tr>\n",
       "    <tr>\n",
       "      <th>1</th>\n",
       "      <td>5925</td>\n",
       "      <td>62</td>\n",
       "      <td>1.0</td>\n",
       "      <td>42.493907</td>\n",
       "      <td>42.568133</td>\n",
       "      <td>10.0</td>\n",
       "      <td>7</td>\n",
       "      <td>17.0</td>\n",
       "      <td>2017</td>\n",
       "      <td>0.072158</td>\n",
       "      <td>...</td>\n",
       "      <td>1</td>\n",
       "      <td>0.411765</td>\n",
       "      <td>202.0</td>\n",
       "      <td>1.0</td>\n",
       "      <td>132962.148301</td>\n",
       "      <td>2633.387229</td>\n",
       "      <td>157029.533599</td>\n",
       "      <td>130720.196859</td>\n",
       "      <td>130996.196229</td>\n",
       "      <td>130720.196859</td>\n",
       "    </tr>\n",
       "    <tr>\n",
       "      <th>2</th>\n",
       "      <td>960</td>\n",
       "      <td>27</td>\n",
       "      <td>2.0</td>\n",
       "      <td>59.463678</td>\n",
       "      <td>36.843185</td>\n",
       "      <td>9.0</td>\n",
       "      <td>19</td>\n",
       "      <td>19.0</td>\n",
       "      <td>1977</td>\n",
       "      <td>0.211401</td>\n",
       "      <td>...</td>\n",
       "      <td>1</td>\n",
       "      <td>1.000000</td>\n",
       "      <td>198.0</td>\n",
       "      <td>4.0</td>\n",
       "      <td>159898.804320</td>\n",
       "      <td>2759.261113</td>\n",
       "      <td>200402.893185</td>\n",
       "      <td>136045.775200</td>\n",
       "      <td>180215.581814</td>\n",
       "      <td>201704.639671</td>\n",
       "    </tr>\n",
       "    <tr>\n",
       "      <th>3</th>\n",
       "      <td>3848</td>\n",
       "      <td>23</td>\n",
       "      <td>3.0</td>\n",
       "      <td>49.646030</td>\n",
       "      <td>33.893825</td>\n",
       "      <td>6.0</td>\n",
       "      <td>2</td>\n",
       "      <td>2.0</td>\n",
       "      <td>1965</td>\n",
       "      <td>0.014073</td>\n",
       "      <td>...</td>\n",
       "      <td>1</td>\n",
       "      <td>1.000000</td>\n",
       "      <td>196.0</td>\n",
       "      <td>0.0</td>\n",
       "      <td>173737.299815</td>\n",
       "      <td>2333.284728</td>\n",
       "      <td>264213.558631</td>\n",
       "      <td>216283.296923</td>\n",
       "      <td>231289.945704</td>\n",
       "      <td>217826.568543</td>\n",
       "    </tr>\n",
       "    <tr>\n",
       "      <th>4</th>\n",
       "      <td>746</td>\n",
       "      <td>74</td>\n",
       "      <td>1.0</td>\n",
       "      <td>53.837056</td>\n",
       "      <td>33.356978</td>\n",
       "      <td>1.0</td>\n",
       "      <td>8</td>\n",
       "      <td>17.0</td>\n",
       "      <td>1977</td>\n",
       "      <td>0.309479</td>\n",
       "      <td>...</td>\n",
       "      <td>1</td>\n",
       "      <td>0.470588</td>\n",
       "      <td>198.0</td>\n",
       "      <td>6.0</td>\n",
       "      <td>163088.780260</td>\n",
       "      <td>3426.385042</td>\n",
       "      <td>174876.692789</td>\n",
       "      <td>161959.925622</td>\n",
       "      <td>161959.925622</td>\n",
       "      <td>180167.831477</td>\n",
       "    </tr>\n",
       "  </tbody>\n",
       "</table>\n",
       "<p>5 rows × 31 columns</p>\n",
       "</div>"
      ],
      "text/plain": [
       "     Id  DistrictId  Rooms     Square  LifeSquare  KitchenSquare  Floor  \\\n",
       "0  4567          44    1.0  36.847630   19.094182            5.0      5   \n",
       "1  5925          62    1.0  42.493907   42.568133           10.0      7   \n",
       "2   960          27    2.0  59.463678   36.843185            9.0     19   \n",
       "3  3848          23    3.0  49.646030   33.893825            6.0      2   \n",
       "4   746          74    1.0  53.837056   33.356978            1.0      8   \n",
       "\n",
       "   HouseFloor  HouseYear  Ecology_1  ...  Ecology_2_B  Floor_Rel  \\\n",
       "0         9.0       1970   0.036122  ...            1   0.555556   \n",
       "1        17.0       2017   0.072158  ...            1   0.411765   \n",
       "2        19.0       1977   0.211401  ...            1   1.000000   \n",
       "3         2.0       1965   0.014073  ...            1   1.000000   \n",
       "4        17.0       1977   0.309479  ...            1   0.470588   \n",
       "\n",
       "   HouseYear_Group  Ecology_1_Group  Dist_Room_Price  Dist_Meter_Price  \\\n",
       "0            197.0              1.0    170455.930747       4551.390039   \n",
       "1            202.0              1.0    132962.148301       2633.387229   \n",
       "2            198.0              4.0    159898.804320       2759.261113   \n",
       "3            196.0              0.0    173737.299815       2333.284728   \n",
       "4            198.0              6.0    163088.780260       3426.385042   \n",
       "\n",
       "   Eco_Room_Price  Social_Room_Price  Health_Room_Price  Shops_Room_Price  \n",
       "0   157029.533599      170455.930747      170455.930747     147179.396107  \n",
       "1   157029.533599      130720.196859      130996.196229     130720.196859  \n",
       "2   200402.893185      136045.775200      180215.581814     201704.639671  \n",
       "3   264213.558631      216283.296923      231289.945704     217826.568543  \n",
       "4   174876.692789      161959.925622      161959.925622     180167.831477  \n",
       "\n",
       "[5 rows x 31 columns]"
      ]
     },
     "execution_count": 46,
     "metadata": {},
     "output_type": "execute_result"
    }
   ],
   "source": [
    "# Стоимость одного метра от фич района\n",
    "\n",
    "for k, q in quality_metrics.items():\n",
    "    benefits_price = train_df[q + ['Rooms', 'Price']]\n",
    "\n",
    "    benefits_price = benefits_price.groupby(q + ['Rooms'], as_index=False)\\\n",
    "                            .agg({'Price':'median'})\\\n",
    "                            .rename(columns={'Price': k + '_Room_Price'})\n",
    "    \n",
    "    train_df = train_df.merge(benefits_price, on=q + ['Rooms'], how='left')\n",
    "    test_df = test_df.merge(benefits_price, on=q + ['Rooms'], how='left')\n",
    "    predict_df = predict_df.merge(benefits_price, on=q + ['Rooms'], how='left')\n",
    "    \n",
    "predict_df.head()"
   ]
  },
  {
   "cell_type": "code",
   "execution_count": 47,
   "id": "36498815",
   "metadata": {},
   "outputs": [
    {
     "data": {
      "text/plain": [
       "<AxesSubplot:ylabel='Frequency'>"
      ]
     },
     "execution_count": 47,
     "metadata": {},
     "output_type": "execute_result"
    },
    {
     "data": {
      "image/png": "[encoded data removed]",
      "text/plain": [
       "<Figure size 432x288 with 1 Axes>"
      ]
     },
     "metadata": {
      "needs_background": "light"
     },
     "output_type": "display_data"
    }
   ],
   "source": [
    "# Стоимость комнаты от года в районе\n",
    "\n",
    "year_room_price = train_df.groupby(['HouseYear_Group', 'Rooms'], as_index=False).agg({'Price':'median'})\\\n",
    "                        .rename(columns={'Price':'Year_Room_Price'})\n",
    "\n",
    "train_df = train_df.merge(year_room_price, on=['HouseYear_Group', 'Rooms'], how='left')\n",
    "test_df = test_df.merge(year_room_price, on=['HouseYear_Group', 'Rooms'], how='left')\n",
    "predict_df = predict_df.merge(year_room_price, on=['HouseYear_Group', 'Rooms'], how='left')\n",
    "\n",
    "predict_df['Year_Room_Price'].plot.hist()"
   ]
  },
  {
   "cell_type": "code",
   "execution_count": 48,
   "id": "3cb3be34",
   "metadata": {},
   "outputs": [
    {
     "data": {
      "text/html": [
       "<div>\n",
       "<style scoped>\n",
       "    .dataframe tbody tr th:only-of-type {\n",
       "        vertical-align: middle;\n",
       "    }\n",
       "\n",
       "    .dataframe tbody tr th {\n",
       "        vertical-align: top;\n",
       "    }\n",
       "\n",
       "    .dataframe thead th {\n",
       "        text-align: right;\n",
       "    }\n",
       "</style>\n",
       "<table border=\"1\" class=\"dataframe\">\n",
       "  <thead>\n",
       "    <tr style=\"text-align: right;\">\n",
       "      <th></th>\n",
       "      <th>DistrictId</th>\n",
       "      <th>Rooms</th>\n",
       "      <th>Square</th>\n",
       "      <th>LifeSquare</th>\n",
       "      <th>KitchenSquare</th>\n",
       "      <th>Floor</th>\n",
       "      <th>HouseFloor</th>\n",
       "      <th>HouseYear</th>\n",
       "      <th>Ecology_1</th>\n",
       "      <th>Social_1</th>\n",
       "      <th>...</th>\n",
       "      <th>Floor_Rel</th>\n",
       "      <th>HouseYear_Group</th>\n",
       "      <th>Ecology_1_Group</th>\n",
       "      <th>Dist_Room_Price</th>\n",
       "      <th>Dist_Meter_Price</th>\n",
       "      <th>Eco_Room_Price</th>\n",
       "      <th>Social_Room_Price</th>\n",
       "      <th>Health_Room_Price</th>\n",
       "      <th>Shops_Room_Price</th>\n",
       "      <th>Year_Room_Price</th>\n",
       "    </tr>\n",
       "  </thead>\n",
       "  <tbody>\n",
       "    <tr>\n",
       "      <th>0</th>\n",
       "      <td>21</td>\n",
       "      <td>2.0</td>\n",
       "      <td>48.312201</td>\n",
       "      <td>27.764944</td>\n",
       "      <td>6.0</td>\n",
       "      <td>6</td>\n",
       "      <td>9.0</td>\n",
       "      <td>1973</td>\n",
       "      <td>0.194489</td>\n",
       "      <td>47</td>\n",
       "      <td>...</td>\n",
       "      <td>0.666667</td>\n",
       "      <td>197.0</td>\n",
       "      <td>4.0</td>\n",
       "      <td>182897.300817</td>\n",
       "      <td>3990.839101</td>\n",
       "      <td>200402.893185</td>\n",
       "      <td>182897.300817</td>\n",
       "      <td>182897.300817</td>\n",
       "      <td>200197.968432</td>\n",
       "      <td>196494.967933</td>\n",
       "    </tr>\n",
       "    <tr>\n",
       "      <th>1</th>\n",
       "      <td>89</td>\n",
       "      <td>2.0</td>\n",
       "      <td>42.024904</td>\n",
       "      <td>40.131440</td>\n",
       "      <td>7.0</td>\n",
       "      <td>5</td>\n",
       "      <td>8.0</td>\n",
       "      <td>1962</td>\n",
       "      <td>0.136330</td>\n",
       "      <td>30</td>\n",
       "      <td>...</td>\n",
       "      <td>0.625000</td>\n",
       "      <td>196.0</td>\n",
       "      <td>3.0</td>\n",
       "      <td>294119.075432</td>\n",
       "      <td>5426.323534</td>\n",
       "      <td>203904.528791</td>\n",
       "      <td>247187.598965</td>\n",
       "      <td>247187.598965</td>\n",
       "      <td>215497.870101</td>\n",
       "      <td>199479.825334</td>\n",
       "    </tr>\n",
       "    <tr>\n",
       "      <th>2</th>\n",
       "      <td>39</td>\n",
       "      <td>1.0</td>\n",
       "      <td>35.781532</td>\n",
       "      <td>19.250272</td>\n",
       "      <td>6.0</td>\n",
       "      <td>9</td>\n",
       "      <td>9.0</td>\n",
       "      <td>1974</td>\n",
       "      <td>0.428826</td>\n",
       "      <td>25</td>\n",
       "      <td>...</td>\n",
       "      <td>1.000000</td>\n",
       "      <td>197.0</td>\n",
       "      <td>9.0</td>\n",
       "      <td>155321.693367</td>\n",
       "      <td>4223.512419</td>\n",
       "      <td>137992.743876</td>\n",
       "      <td>156375.020002</td>\n",
       "      <td>156375.020002</td>\n",
       "      <td>149830.364901</td>\n",
       "      <td>161417.812363</td>\n",
       "    </tr>\n",
       "    <tr>\n",
       "      <th>3</th>\n",
       "      <td>48</td>\n",
       "      <td>2.0</td>\n",
       "      <td>61.227091</td>\n",
       "      <td>35.230768</td>\n",
       "      <td>10.0</td>\n",
       "      <td>16</td>\n",
       "      <td>16.0</td>\n",
       "      <td>1983</td>\n",
       "      <td>0.041125</td>\n",
       "      <td>46</td>\n",
       "      <td>...</td>\n",
       "      <td>1.000000</td>\n",
       "      <td>198.0</td>\n",
       "      <td>1.0</td>\n",
       "      <td>272671.890168</td>\n",
       "      <td>5112.751226</td>\n",
       "      <td>210166.236056</td>\n",
       "      <td>272716.802991</td>\n",
       "      <td>230483.239634</td>\n",
       "      <td>257515.514327</td>\n",
       "      <td>190040.760356</td>\n",
       "    </tr>\n",
       "    <tr>\n",
       "      <th>4</th>\n",
       "      <td>27</td>\n",
       "      <td>3.0</td>\n",
       "      <td>115.027311</td>\n",
       "      <td>70.996430</td>\n",
       "      <td>10.0</td>\n",
       "      <td>4</td>\n",
       "      <td>10.0</td>\n",
       "      <td>2014</td>\n",
       "      <td>0.075424</td>\n",
       "      <td>11</td>\n",
       "      <td>...</td>\n",
       "      <td>0.400000</td>\n",
       "      <td>201.0</td>\n",
       "      <td>2.0</td>\n",
       "      <td>216877.889636</td>\n",
       "      <td>2759.261113</td>\n",
       "      <td>294281.695684</td>\n",
       "      <td>201984.658729</td>\n",
       "      <td>231289.945704</td>\n",
       "      <td>217826.568543</td>\n",
       "      <td>301829.428760</td>\n",
       "    </tr>\n",
       "  </tbody>\n",
       "</table>\n",
       "<p>5 rows × 32 columns</p>\n",
       "</div>"
      ],
      "text/plain": [
       "   DistrictId  Rooms      Square  LifeSquare  KitchenSquare  Floor  \\\n",
       "0          21    2.0   48.312201   27.764944            6.0      6   \n",
       "1          89    2.0   42.024904   40.131440            7.0      5   \n",
       "2          39    1.0   35.781532   19.250272            6.0      9   \n",
       "3          48    2.0   61.227091   35.230768           10.0     16   \n",
       "4          27    3.0  115.027311   70.996430           10.0      4   \n",
       "\n",
       "   HouseFloor  HouseYear  Ecology_1  Social_1  ...  Floor_Rel  \\\n",
       "0         9.0       1973   0.194489        47  ...   0.666667   \n",
       "1         8.0       1962   0.136330        30  ...   0.625000   \n",
       "2         9.0       1974   0.428826        25  ...   1.000000   \n",
       "3        16.0       1983   0.041125        46  ...   1.000000   \n",
       "4        10.0       2014   0.075424        11  ...   0.400000   \n",
       "\n",
       "   HouseYear_Group  Ecology_1_Group  Dist_Room_Price  Dist_Meter_Price  \\\n",
       "0            197.0              4.0    182897.300817       3990.839101   \n",
       "1            196.0              3.0    294119.075432       5426.323534   \n",
       "2            197.0              9.0    155321.693367       4223.512419   \n",
       "3            198.0              1.0    272671.890168       5112.751226   \n",
       "4            201.0              2.0    216877.889636       2759.261113   \n",
       "\n",
       "   Eco_Room_Price  Social_Room_Price  Health_Room_Price  Shops_Room_Price  \\\n",
       "0   200402.893185      182897.300817      182897.300817     200197.968432   \n",
       "1   203904.528791      247187.598965      247187.598965     215497.870101   \n",
       "2   137992.743876      156375.020002      156375.020002     149830.364901   \n",
       "3   210166.236056      272716.802991      230483.239634     257515.514327   \n",
       "4   294281.695684      201984.658729      231289.945704     217826.568543   \n",
       "\n",
       "   Year_Room_Price  \n",
       "0    196494.967933  \n",
       "1    199479.825334  \n",
       "2    161417.812363  \n",
       "3    190040.760356  \n",
       "4    301829.428760  \n",
       "\n",
       "[5 rows x 32 columns]"
      ]
     },
     "execution_count": 48,
     "metadata": {},
     "output_type": "execute_result"
    }
   ],
   "source": [
    "train_df.head()"
   ]
  },
  {
   "cell_type": "markdown",
   "id": "49447999",
   "metadata": {},
   "source": [
    "## Пропуски в тестовых данных"
   ]
  },
  {
   "cell_type": "code",
   "execution_count": 49,
   "id": "90232263",
   "metadata": {},
   "outputs": [
    {
     "name": "stdout",
     "output_type": "stream",
     "text": [
      "<class 'pandas.core.frame.DataFrame'>\n",
      "Int64Index: 5000 entries, 0 to 4999\n",
      "Data columns (total 7 columns):\n",
      " #   Column             Non-Null Count  Dtype  \n",
      "---  ------             --------------  -----  \n",
      " 0   Dist_Room_Price    4915 non-null   float64\n",
      " 1   Dist_Meter_Price   4992 non-null   float64\n",
      " 2   Social_Room_Price  4947 non-null   float64\n",
      " 3   Floor_Rel          4869 non-null   float64\n",
      " 4   Year_Room_Price    4998 non-null   float64\n",
      " 5   Health_Room_Price  4975 non-null   float64\n",
      " 6   Eco_Room_Price     4999 non-null   float64\n",
      "dtypes: float64(7)\n",
      "memory usage: 312.5 KB\n"
     ]
    }
   ],
   "source": [
    "misses = ['Dist_Room_Price', 'Dist_Meter_Price', 'Social_Room_Price', 'Floor_Rel', 'Year_Room_Price', 'Health_Room_Price', 'Eco_Room_Price']\n",
    "predict_df[misses].info()"
   ]
  },
  {
   "cell_type": "markdown",
   "id": "27223a88",
   "metadata": {},
   "source": [
    "В этих трех колонках есть пропуски сгенерированных значений, заполним их медианами:"
   ]
  },
  {
   "cell_type": "code",
   "execution_count": 50,
   "id": "66e66ef4",
   "metadata": {},
   "outputs": [
    {
     "name": "stdout",
     "output_type": "stream",
     "text": [
      "<class 'pandas.core.frame.DataFrame'>\n",
      "Int64Index: 5000 entries, 0 to 4999\n",
      "Data columns (total 7 columns):\n",
      " #   Column             Non-Null Count  Dtype  \n",
      "---  ------             --------------  -----  \n",
      " 0   Dist_Room_Price    5000 non-null   float64\n",
      " 1   Dist_Meter_Price   5000 non-null   float64\n",
      " 2   Social_Room_Price  5000 non-null   float64\n",
      " 3   Floor_Rel          5000 non-null   float64\n",
      " 4   Year_Room_Price    5000 non-null   float64\n",
      " 5   Health_Room_Price  5000 non-null   float64\n",
      " 6   Eco_Room_Price     5000 non-null   float64\n",
      "dtypes: float64(7)\n",
      "memory usage: 312.5 KB\n"
     ]
    }
   ],
   "source": [
    "for c in misses:\n",
    "    for df in [predict_df, test_df]:\n",
    "        df.loc[df[c].isna(), c] = df[c].median()\n",
    "\n",
    "predict_df[misses].info()"
   ]
  },
  {
   "cell_type": "markdown",
   "id": "fd1f4655",
   "metadata": {},
   "source": [
    "## Стандартизация"
   ]
  },
  {
   "cell_type": "code",
   "execution_count": 51,
   "id": "f92ef4b6",
   "metadata": {},
   "outputs": [],
   "source": [
    "scaler = StandardScaler()\n",
    "#train_df[train_df.columns] = scaler.fit_transform(train_df[train_df.columns])\n",
    "#test_df[test_df.columns] = scaler.fit_transform(test_df[test_df.columns])\n",
    "#predict_df[predict_df.columns] = scaler.fit_transform(predict_df[predict_df.columns])"
   ]
  },
  {
   "cell_type": "code",
   "execution_count": 52,
   "id": "96e2edd2",
   "metadata": {},
   "outputs": [
    {
     "data": {
      "text/plain": [
       "<AxesSubplot:ylabel='Frequency'>"
      ]
     },
     "execution_count": 52,
     "metadata": {},
     "output_type": "execute_result"
    },
    {
     "data": {
      "image/png": "[encoded data removed]",
      "text/plain": [
       "<Figure size 432x288 with 1 Axes>"
      ]
     },
     "metadata": {
      "needs_background": "light"
     },
     "output_type": "display_data"
    }
   ],
   "source": [
    "train_df['Dist_Meter_Price'].plot.hist()"
   ]
  },
  {
   "cell_type": "code",
   "execution_count": 53,
   "id": "0e176c1f",
   "metadata": {},
   "outputs": [
    {
     "data": {
      "text/plain": [
       "<AxesSubplot:ylabel='Frequency'>"
      ]
     },
     "execution_count": 53,
     "metadata": {},
     "output_type": "execute_result"
    },
    {
     "data": {
      "image/png": "[encoded data removed]",
      "text/plain": [
       "<Figure size 432x288 with 1 Axes>"
      ]
     },
     "metadata": {
      "needs_background": "light"
     },
     "output_type": "display_data"
    }
   ],
   "source": [
    "test_df['Dist_Meter_Price'].plot.hist()"
   ]
  },
  {
   "cell_type": "code",
   "execution_count": 54,
   "id": "596daa12",
   "metadata": {},
   "outputs": [
    {
     "data": {
      "text/plain": [
       "<AxesSubplot:ylabel='Frequency'>"
      ]
     },
     "execution_count": 54,
     "metadata": {},
     "output_type": "execute_result"
    },
    {
     "data": {
      "image/png": "[encoded data removed]",
      "text/plain": [
       "<Figure size 432x288 with 1 Axes>"
      ]
     },
     "metadata": {
      "needs_background": "light"
     },
     "output_type": "display_data"
    }
   ],
   "source": [
    "predict_df['Dist_Meter_Price'].plot.hist()"
   ]
  },
  {
   "cell_type": "markdown",
   "id": "98f5e299",
   "metadata": {},
   "source": [
    "## Построим и оценим модель"
   ]
  },
  {
   "cell_type": "code",
   "execution_count": 55,
   "id": "ad7e3af9",
   "metadata": {},
   "outputs": [
    {
     "name": "stdout",
     "output_type": "stream",
     "text": [
      "Train R2: 0.967\n",
      "Test R2:  0.735\n"
     ]
    }
   ],
   "source": [
    "#important = ['Dist_Room_Price', 'Square', 'Social_Room_Price', 'Dist_Meter_Price', 'LifeSquare', 'Kitchen_Per_Square', 'HouseYear']\n",
    "#train_df = train_df[important + ['Price']]\n",
    "#test_df = test_df[important + ['Price', 'Id']]\n",
    "#predict_df = predict_df[important + ['Id']]\n",
    "\n",
    "X_train = train_df.drop(columns=['Price'])\n",
    "y_train = train_df['Price']\n",
    "rf_model = RandomForestRegressor(random_state=21, criterion='mse')\n",
    "rf_model.fit(X_train, y_train)\n",
    "\n",
    "X_test = test_df.drop(columns=['Price', 'Id'])\n",
    "y_test = test_df['Price']\n",
    "\n",
    "X_predict = predict_df.drop(columns=['Id'])\n",
    "\n",
    "yp_train = rf_model.predict(X_train)\n",
    "yp_test = rf_model.predict(X_test)\n",
    "yp_predict = rf_model.predict(X_predict)\n",
    "\n",
    "print(\"Train R2: \" + str(round(r2(y_train, yp_train), 3)))\n",
    "print(\"Test R2:  \" + str(round(r2(y_test, yp_test), 3)))"
   ]
  },
  {
   "cell_type": "markdown",
   "id": "43e8ac1c",
   "metadata": {},
   "source": [
    "Проверим качество модели"
   ]
  },
  {
   "cell_type": "code",
   "execution_count": 56,
   "id": "e8847ec5",
   "metadata": {},
   "outputs": [
    {
     "data": {
      "text/plain": [
       "<matplotlib.collections.PathCollection at 0x7f864aef8a90>"
      ]
     },
     "execution_count": 56,
     "metadata": {},
     "output_type": "execute_result"
    },
    {
     "data": {
      "image/png": "[encoded data removed]",
      "text/plain": [
       "<Figure size 432x288 with 1 Axes>"
      ]
     },
     "metadata": {
      "needs_background": "light"
     },
     "output_type": "display_data"
    }
   ],
   "source": [
    "plt.scatter(yp_train, y_train)"
   ]
  },
  {
   "cell_type": "code",
   "execution_count": 57,
   "id": "97404042",
   "metadata": {},
   "outputs": [
    {
     "data": {
      "text/plain": [
       "<matplotlib.collections.PathCollection at 0x7f864af1f940>"
      ]
     },
     "execution_count": 57,
     "metadata": {},
     "output_type": "execute_result"
    },
    {
     "data": {
      "image/png": "[encoded data removed]",
      "text/plain": [
       "<Figure size 432x288 with 1 Axes>"
      ]
     },
     "metadata": {
      "needs_background": "light"
     },
     "output_type": "display_data"
    }
   ],
   "source": [
    "plt.scatter(yp_test, y_test)"
   ]
  },
  {
   "cell_type": "markdown",
   "id": "187d4c13",
   "metadata": {},
   "source": [
    "Оценим важность признаков:"
   ]
  },
  {
   "cell_type": "code",
   "execution_count": 58,
   "id": "fdca00ee",
   "metadata": {},
   "outputs": [
    {
     "data": {
      "text/html": [
       "<div>\n",
       "<style scoped>\n",
       "    .dataframe tbody tr th:only-of-type {\n",
       "        vertical-align: middle;\n",
       "    }\n",
       "\n",
       "    .dataframe tbody tr th {\n",
       "        vertical-align: top;\n",
       "    }\n",
       "\n",
       "    .dataframe thead th {\n",
       "        text-align: right;\n",
       "    }\n",
       "</style>\n",
       "<table border=\"1\" class=\"dataframe\">\n",
       "  <thead>\n",
       "    <tr style=\"text-align: right;\">\n",
       "      <th></th>\n",
       "      <th>feature_name</th>\n",
       "      <th>importance</th>\n",
       "    </tr>\n",
       "  </thead>\n",
       "  <tbody>\n",
       "    <tr>\n",
       "      <th>24</th>\n",
       "      <td>Dist_Room_Price</td>\n",
       "      <td>0.490577</td>\n",
       "    </tr>\n",
       "    <tr>\n",
       "      <th>27</th>\n",
       "      <td>Social_Room_Price</td>\n",
       "      <td>0.152640</td>\n",
       "    </tr>\n",
       "    <tr>\n",
       "      <th>2</th>\n",
       "      <td>Square</td>\n",
       "      <td>0.115573</td>\n",
       "    </tr>\n",
       "    <tr>\n",
       "      <th>25</th>\n",
       "      <td>Dist_Meter_Price</td>\n",
       "      <td>0.038239</td>\n",
       "    </tr>\n",
       "    <tr>\n",
       "      <th>3</th>\n",
       "      <td>LifeSquare</td>\n",
       "      <td>0.023448</td>\n",
       "    </tr>\n",
       "    <tr>\n",
       "      <th>4</th>\n",
       "      <td>KitchenSquare</td>\n",
       "      <td>0.021632</td>\n",
       "    </tr>\n",
       "    <tr>\n",
       "      <th>7</th>\n",
       "      <td>HouseYear</td>\n",
       "      <td>0.021064</td>\n",
       "    </tr>\n",
       "    <tr>\n",
       "      <th>6</th>\n",
       "      <td>HouseFloor</td>\n",
       "      <td>0.016642</td>\n",
       "    </tr>\n",
       "    <tr>\n",
       "      <th>21</th>\n",
       "      <td>Floor_Rel</td>\n",
       "      <td>0.015449</td>\n",
       "    </tr>\n",
       "    <tr>\n",
       "      <th>5</th>\n",
       "      <td>Floor</td>\n",
       "      <td>0.014153</td>\n",
       "    </tr>\n",
       "    <tr>\n",
       "      <th>11</th>\n",
       "      <td>Social_3</td>\n",
       "      <td>0.011210</td>\n",
       "    </tr>\n",
       "    <tr>\n",
       "      <th>0</th>\n",
       "      <td>DistrictId</td>\n",
       "      <td>0.008662</td>\n",
       "    </tr>\n",
       "    <tr>\n",
       "      <th>30</th>\n",
       "      <td>Year_Room_Price</td>\n",
       "      <td>0.008602</td>\n",
       "    </tr>\n",
       "    <tr>\n",
       "      <th>28</th>\n",
       "      <td>Health_Room_Price</td>\n",
       "      <td>0.007928</td>\n",
       "    </tr>\n",
       "    <tr>\n",
       "      <th>10</th>\n",
       "      <td>Social_2</td>\n",
       "      <td>0.006954</td>\n",
       "    </tr>\n",
       "    <tr>\n",
       "      <th>29</th>\n",
       "      <td>Shops_Room_Price</td>\n",
       "      <td>0.006878</td>\n",
       "    </tr>\n",
       "    <tr>\n",
       "      <th>8</th>\n",
       "      <td>Ecology_1</td>\n",
       "      <td>0.006615</td>\n",
       "    </tr>\n",
       "    <tr>\n",
       "      <th>12</th>\n",
       "      <td>Healthcare_1</td>\n",
       "      <td>0.006456</td>\n",
       "    </tr>\n",
       "    <tr>\n",
       "      <th>26</th>\n",
       "      <td>Eco_Room_Price</td>\n",
       "      <td>0.005663</td>\n",
       "    </tr>\n",
       "    <tr>\n",
       "      <th>9</th>\n",
       "      <td>Social_1</td>\n",
       "      <td>0.005286</td>\n",
       "    </tr>\n",
       "    <tr>\n",
       "      <th>14</th>\n",
       "      <td>Shops_1</td>\n",
       "      <td>0.005176</td>\n",
       "    </tr>\n",
       "    <tr>\n",
       "      <th>22</th>\n",
       "      <td>HouseYear_Group</td>\n",
       "      <td>0.003437</td>\n",
       "    </tr>\n",
       "    <tr>\n",
       "      <th>13</th>\n",
       "      <td>Helthcare_2</td>\n",
       "      <td>0.002982</td>\n",
       "    </tr>\n",
       "    <tr>\n",
       "      <th>23</th>\n",
       "      <td>Ecology_1_Group</td>\n",
       "      <td>0.002364</td>\n",
       "    </tr>\n",
       "    <tr>\n",
       "      <th>1</th>\n",
       "      <td>Rooms</td>\n",
       "      <td>0.001293</td>\n",
       "    </tr>\n",
       "    <tr>\n",
       "      <th>15</th>\n",
       "      <td>Shops_2_A</td>\n",
       "      <td>0.000312</td>\n",
       "    </tr>\n",
       "    <tr>\n",
       "      <th>16</th>\n",
       "      <td>Shops_2_B</td>\n",
       "      <td>0.000303</td>\n",
       "    </tr>\n",
       "    <tr>\n",
       "      <th>18</th>\n",
       "      <td>Ecology_3_B</td>\n",
       "      <td>0.000220</td>\n",
       "    </tr>\n",
       "    <tr>\n",
       "      <th>17</th>\n",
       "      <td>Ecology_3_A</td>\n",
       "      <td>0.000169</td>\n",
       "    </tr>\n",
       "    <tr>\n",
       "      <th>20</th>\n",
       "      <td>Ecology_2_B</td>\n",
       "      <td>0.000042</td>\n",
       "    </tr>\n",
       "    <tr>\n",
       "      <th>19</th>\n",
       "      <td>Ecology_2_A</td>\n",
       "      <td>0.000030</td>\n",
       "    </tr>\n",
       "  </tbody>\n",
       "</table>\n",
       "</div>"
      ],
      "text/plain": [
       "         feature_name  importance\n",
       "24    Dist_Room_Price    0.490577\n",
       "27  Social_Room_Price    0.152640\n",
       "2              Square    0.115573\n",
       "25   Dist_Meter_Price    0.038239\n",
       "3          LifeSquare    0.023448\n",
       "4       KitchenSquare    0.021632\n",
       "7           HouseYear    0.021064\n",
       "6          HouseFloor    0.016642\n",
       "21          Floor_Rel    0.015449\n",
       "5               Floor    0.014153\n",
       "11           Social_3    0.011210\n",
       "0          DistrictId    0.008662\n",
       "30    Year_Room_Price    0.008602\n",
       "28  Health_Room_Price    0.007928\n",
       "10           Social_2    0.006954\n",
       "29   Shops_Room_Price    0.006878\n",
       "8           Ecology_1    0.006615\n",
       "12       Healthcare_1    0.006456\n",
       "26     Eco_Room_Price    0.005663\n",
       "9            Social_1    0.005286\n",
       "14            Shops_1    0.005176\n",
       "22    HouseYear_Group    0.003437\n",
       "13        Helthcare_2    0.002982\n",
       "23    Ecology_1_Group    0.002364\n",
       "1               Rooms    0.001293\n",
       "15          Shops_2_A    0.000312\n",
       "16          Shops_2_B    0.000303\n",
       "18        Ecology_3_B    0.000220\n",
       "17        Ecology_3_A    0.000169\n",
       "20        Ecology_2_B    0.000042\n",
       "19        Ecology_2_A    0.000030"
      ]
     },
     "execution_count": 58,
     "metadata": {},
     "output_type": "execute_result"
    }
   ],
   "source": [
    "feature_importances = pd.DataFrame(zip(X_train.columns, rf_model.feature_importances_), \n",
    "                                   columns=['feature_name', 'importance'])\n",
    "\n",
    "feature_importances.sort_values(by='importance', ascending=False).round(6)"
   ]
  },
  {
   "cell_type": "markdown",
   "id": "7cfa32d1",
   "metadata": {},
   "source": [
    "## Экспорт предсказаний"
   ]
  },
  {
   "cell_type": "code",
   "execution_count": 59,
   "id": "d74b4b79",
   "metadata": {},
   "outputs": [
    {
     "data": {
      "text/html": [
       "<div>\n",
       "<style scoped>\n",
       "    .dataframe tbody tr th:only-of-type {\n",
       "        vertical-align: middle;\n",
       "    }\n",
       "\n",
       "    .dataframe tbody tr th {\n",
       "        vertical-align: top;\n",
       "    }\n",
       "\n",
       "    .dataframe thead th {\n",
       "        text-align: right;\n",
       "    }\n",
       "</style>\n",
       "<table border=\"1\" class=\"dataframe\">\n",
       "  <thead>\n",
       "    <tr style=\"text-align: right;\">\n",
       "      <th></th>\n",
       "      <th>Id</th>\n",
       "      <th>Price</th>\n",
       "    </tr>\n",
       "  </thead>\n",
       "  <tbody>\n",
       "    <tr>\n",
       "      <th>0</th>\n",
       "      <td>4567</td>\n",
       "      <td>155033.994911</td>\n",
       "    </tr>\n",
       "    <tr>\n",
       "      <th>1</th>\n",
       "      <td>5925</td>\n",
       "      <td>115472.251604</td>\n",
       "    </tr>\n",
       "    <tr>\n",
       "      <th>2</th>\n",
       "      <td>960</td>\n",
       "      <td>138154.104098</td>\n",
       "    </tr>\n",
       "    <tr>\n",
       "      <th>3</th>\n",
       "      <td>3848</td>\n",
       "      <td>176249.513671</td>\n",
       "    </tr>\n",
       "    <tr>\n",
       "      <th>4</th>\n",
       "      <td>746</td>\n",
       "      <td>163346.538478</td>\n",
       "    </tr>\n",
       "    <tr>\n",
       "      <th>...</th>\n",
       "      <td>...</td>\n",
       "      <td>...</td>\n",
       "    </tr>\n",
       "    <tr>\n",
       "      <th>4995</th>\n",
       "      <td>10379</td>\n",
       "      <td>177544.191284</td>\n",
       "    </tr>\n",
       "    <tr>\n",
       "      <th>4996</th>\n",
       "      <td>16138</td>\n",
       "      <td>405330.111781</td>\n",
       "    </tr>\n",
       "    <tr>\n",
       "      <th>4997</th>\n",
       "      <td>3912</td>\n",
       "      <td>149752.524235</td>\n",
       "    </tr>\n",
       "    <tr>\n",
       "      <th>4998</th>\n",
       "      <td>5722</td>\n",
       "      <td>188042.668311</td>\n",
       "    </tr>\n",
       "    <tr>\n",
       "      <th>4999</th>\n",
       "      <td>11004</td>\n",
       "      <td>244979.344722</td>\n",
       "    </tr>\n",
       "  </tbody>\n",
       "</table>\n",
       "<p>5000 rows × 2 columns</p>\n",
       "</div>"
      ],
      "text/plain": [
       "         Id          Price\n",
       "0      4567  155033.994911\n",
       "1      5925  115472.251604\n",
       "2       960  138154.104098\n",
       "3      3848  176249.513671\n",
       "4       746  163346.538478\n",
       "...     ...            ...\n",
       "4995  10379  177544.191284\n",
       "4996  16138  405330.111781\n",
       "4997   3912  149752.524235\n",
       "4998   5722  188042.668311\n",
       "4999  11004  244979.344722\n",
       "\n",
       "[5000 rows x 2 columns]"
      ]
     },
     "execution_count": 59,
     "metadata": {},
     "output_type": "execute_result"
    }
   ],
   "source": [
    "predict_df['Price'] = yp_predict\n",
    "predict_df[['Id', 'Price']]"
   ]
  },
  {
   "cell_type": "code",
   "execution_count": 61,
   "id": "1b663d44",
   "metadata": {},
   "outputs": [],
   "source": [
    "predict_df[['Id', 'Price']].to_csv('./DGolotiuk_predictions.csv', index=False)"
   ]
  }
 ],
 "metadata": {
  "kernelspec": {
   "display_name": "Python 3 (ipykernel)",
   "language": "python",
   "name": "python3"
  },
  "language_info": {
   "codemirror_mode": {
    "name": "ipython",
    "version": 3
   },
   "file_extension": ".py",
   "mimetype": "text/x-python",
   "name": "python",
   "nbconvert_exporter": "python",
   "pygments_lexer": "ipython3",
   "version": "3.10.4"
  }
 },
 "nbformat": 4,
 "nbformat_minor": 5
}
